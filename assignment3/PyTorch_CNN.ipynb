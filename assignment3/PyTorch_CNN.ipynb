{
 "cells": [
  {
   "cell_type": "markdown",
   "metadata": {
    "cellId": "vhwknbeecadww4f76tkln9",
    "execution_id": "c2326e9b-4058-4361-8e6c-70c361859a91"
   },
   "source": [
    "# Задание 3.2 - сверточные нейронные сети (CNNs) в PyTorch\n",
    "\n",
    "Это упражнение мы буде выполнять в Google Colab - https://colab.research.google.com/  \n",
    "Google Colab позволяет запускать код в notebook в облаке Google, где можно воспользоваться бесплатным GPU!  \n",
    "\n",
    "Авторы курса благодарят компанию Google и надеятся, что праздник не закончится.\n",
    "\n",
    "Туториал по настройке Google Colab:  \n",
    "https://medium.com/deep-learning-turkey/google-colab-free-gpu-tutorial-e113627b9f5d  \n",
    "(Keras инсталлировать не нужно, наш notebook сам установит PyTorch)\n"
   ]
  },
  {
   "cell_type": "code",
   "execution_count": 1,
   "metadata": {
    "cellId": "eqj8rruj0nt1fuk3ih1dez",
    "colab": {},
    "colab_type": "code",
    "id": "FcXBeP1O7cnY"
   },
   "outputs": [
    {
     "name": "stdout",
     "output_type": "stream",
     "text": [
      "Requirement already satisfied: torch in /home/agat.local/s.bulganin/.local/lib/python3.9/site-packages (1.13.1)\n",
      "Requirement already satisfied: torchvision in /home/agat.local/s.bulganin/.local/lib/python3.9/site-packages (0.14.1)\n",
      "Requirement already satisfied: nvidia-cudnn-cu11==8.5.0.96 in /home/agat.local/s.bulganin/.local/lib/python3.9/site-packages (from torch) (8.5.0.96)\n",
      "Requirement already satisfied: typing-extensions in /home/agat.local/s.bulganin/.local/lib/python3.9/site-packages (from torch) (4.4.0)\n",
      "Requirement already satisfied: nvidia-cuda-nvrtc-cu11==11.7.99 in /home/agat.local/s.bulganin/.local/lib/python3.9/site-packages (from torch) (11.7.99)\n",
      "Requirement already satisfied: nvidia-cuda-runtime-cu11==11.7.99 in /home/agat.local/s.bulganin/.local/lib/python3.9/site-packages (from torch) (11.7.99)\n",
      "Requirement already satisfied: nvidia-cublas-cu11==11.10.3.66 in /home/agat.local/s.bulganin/.local/lib/python3.9/site-packages (from torch) (11.10.3.66)\n",
      "Requirement already satisfied: wheel in /usr/lib/python3/dist-packages (from nvidia-cublas-cu11==11.10.3.66->torch) (0.34.2)\n",
      "Requirement already satisfied: setuptools in /usr/lib/python3/dist-packages (from nvidia-cublas-cu11==11.10.3.66->torch) (52.0.0)\n",
      "Requirement already satisfied: pillow!=8.3.*,>=5.3.0 in /home/agat.local/s.bulganin/.local/lib/python3.9/site-packages (from torchvision) (9.4.0)\n",
      "Requirement already satisfied: numpy in /home/agat.local/s.bulganin/.local/lib/python3.9/site-packages (from torchvision) (1.23.1)\n",
      "Requirement already satisfied: requests in /usr/lib/python3/dist-packages (from torchvision) (2.25.1)\n"
     ]
    }
   ],
   "source": [
    "# Intstall PyTorch and download data\n",
    "!pip install torch torchvision"
   ]
  },
  {
   "cell_type": "code",
   "execution_count": 2,
   "metadata": {
    "cellId": "nikj07lqa7ol1aehw6c9ii"
   },
   "outputs": [
    {
     "name": "stdout",
     "output_type": "stream",
     "text": [
      "--2023-02-20 18:39:21--  http://ufldl.stanford.edu/housenumbers/train_32x32.mat\n",
      "Распознаётся ufldl.stanford.edu (ufldl.stanford.edu)… 171.64.68.10\n",
      "Подключение к ufldl.stanford.edu (ufldl.stanford.edu)|171.64.68.10|:80... соединение установлено.\n",
      "HTTP-запрос отправлен. Ожидание ответа… 200 OK\n",
      "Длина: 182040794 (174M) [text/plain]\n",
      "Сохранение в: «train_32x32.mat»\n",
      "\n",
      "train_32x32.mat     100%[===================>] 173,61M  2,41MB/s    за 4m 44s  \n",
      "\n",
      "2023-02-20 18:44:05 (627 KB/s) - «train_32x32.mat» сохранён [182040794/182040794]\n",
      "\n",
      "--2023-02-20 18:44:05--  http://ufldl.stanford.edu/housenumbers/test_32x32.mat\n",
      "Повторное использование соединения с ufldl.stanford.edu:80.\n",
      "HTTP-запрос отправлен. Ожидание ответа… 200 OK\n",
      "Длина: 64275384 (61M) [text/plain]\n",
      "Сохранение в: «test_32x32.mat»\n",
      "\n",
      "test_32x32.mat      100%[===================>]  61,30M   800KB/s    за 85s     \n",
      "\n",
      "2023-02-20 18:45:31 (737 KB/s) - «test_32x32.mat» сохранён [64275384/64275384]\n",
      "\n",
      "ЗАВЕРШЕНО --2023-02-20 18:45:31--\n",
      "Общее время: 6m 10s\n",
      "Загружено: 2 файлов, 235M за 6m 9s (652 KB/s)\n"
     ]
    }
   ],
   "source": [
    "!wget -c http://ufldl.stanford.edu/housenumbers/train_32x32.mat http://ufldl.stanford.edu/housenumbers/test_32x32.mat"
   ]
  },
  {
   "cell_type": "code",
   "execution_count": 11,
   "metadata": {
    "cellId": "qyf92h0eoeg7r76tdtlmi9",
    "colab": {},
    "colab_type": "code",
    "id": "-afwWw-Q85vD"
   },
   "outputs": [],
   "source": [
    "from collections import namedtuple\n",
    "\n",
    "import matplotlib.pyplot as plt\n",
    "import numpy as np\n",
    "import PIL\n",
    "import torch\n",
    "import torch.nn as nn\n",
    "import torch.optim as optim\n",
    "import torchvision.datasets as dset\n",
    "from torch.utils.data.sampler import SubsetRandomSampler\n",
    "\n",
    "from torchvision import transforms"
   ]
  },
  {
   "cell_type": "code",
   "execution_count": 4,
   "metadata": {
    "cellId": "h74tlfn10iryz69pnmmaom",
    "colab": {},
    "colab_type": "code",
    "id": "NNU-OD9O9ltP"
   },
   "outputs": [],
   "source": [
    "device = torch.device(\"cuda:0\") # Let's make sure GPU is available!"
   ]
  },
  {
   "cell_type": "markdown",
   "metadata": {
    "cellId": "kxacpw49e9jdkb4du7gye",
    "execution_id": "d3d6a18f-a884-421b-aa4b-5801b87fb48b"
   },
   "source": [
    "# Загружаем данные"
   ]
  },
  {
   "cell_type": "code",
   "execution_count": 5,
   "metadata": {
    "cellId": "q8vd7fa4sp8r8ck8dj0vk",
    "colab": {},
    "colab_type": "code",
    "id": "YAvkoRx-9FsP"
   },
   "outputs": [],
   "source": [
    "#!g1.1\n",
    "# First, lets load the dataset\n",
    "data_train = dset.SVHN('./', \n",
    "                       transform=transforms.Compose([\n",
    "                           transforms.ToTensor(),\n",
    "                           transforms.Normalize(mean=[0.43,0.44,0.47],\n",
    "                                               std=[0.20,0.20,0.20])                           \n",
    "                       ])\n",
    "                      )\n",
    "data_test = dset.SVHN('./', split='test', transform=transforms.Compose([\n",
    "                           transforms.ToTensor(),\n",
    "                           transforms.Normalize(mean=[0.43,0.44,0.47],\n",
    "                                               std=[0.20,0.20,0.20])                           \n",
    "                       ]))"
   ]
  },
  {
   "cell_type": "markdown",
   "metadata": {
    "cellId": "vpnpo9p302r516kx20b7l",
    "execution_id": "66d8cee4-20b6-4c8d-971e-7133091257f2"
   },
   "source": [
    "Разделяем данные на training и validation.\n",
    "\n",
    "На всякий случай для подробностей - https://pytorch.org/tutorials/beginner/data_loading_tutorial.html"
   ]
  },
  {
   "cell_type": "code",
   "execution_count": 6,
   "metadata": {
    "cellId": "tbbiz9u0yc7yhcqwh0cndi",
    "colab": {},
    "colab_type": "code",
    "id": "YRnr8CPg7Hli"
   },
   "outputs": [],
   "source": [
    "batch_size = 64\n",
    "\n",
    "data_size = data_train.data.shape[0]\n",
    "validation_split = .2\n",
    "split = int(np.floor(validation_split * data_size))\n",
    "indices = list(range(data_size))\n",
    "np.random.shuffle(indices)\n",
    "\n",
    "train_indices, val_indices = indices[split:], indices[:split]\n",
    "\n",
    "train_sampler = SubsetRandomSampler(train_indices)\n",
    "val_sampler = SubsetRandomSampler(val_indices)\n",
    "\n",
    "train_loader = torch.utils.data.DataLoader(data_train, batch_size=batch_size, \n",
    "                                           sampler=train_sampler)\n",
    "val_loader = torch.utils.data.DataLoader(data_train, batch_size=batch_size,\n",
    "                                         sampler=val_sampler)"
   ]
  },
  {
   "cell_type": "code",
   "execution_count": 7,
   "metadata": {
    "cellId": "nd0kn0sj3vc49r43bn0zl",
    "colab": {},
    "colab_type": "code",
    "id": "LyYvt-T67PBG"
   },
   "outputs": [],
   "source": [
    "# We'll use a special helper module to shape it into a flat tensor\n",
    "class Flattener(nn.Module):\n",
    "    def forward(self, x):\n",
    "        batch_size, *_ = x.shape\n",
    "        return x.view(batch_size, -1)"
   ]
  },
  {
   "cell_type": "markdown",
   "metadata": {
    "cellId": "0yua4d2ktlnq68gs07gbggd",
    "execution_id": "271f128c-5650-4af6-8152-0cd1a6287887"
   },
   "source": [
    "Создадим простейшую сеть с новыми слоями:  \n",
    "Convolutional - `nn.Conv2d`  \n",
    "MaxPool - `nn.MaxPool2d`"
   ]
  },
  {
   "cell_type": "code",
   "execution_count": 8,
   "metadata": {
    "cellId": "6fvbxqpiluj9xi8tg1zw",
    "colab": {},
    "colab_type": "code",
    "id": "w9SFVGZP7SQd"
   },
   "outputs": [],
   "source": [
    "#!g1.1\n",
    "nn_model = nn.Sequential(\n",
    "            nn.Conv2d(3, 64, 3, padding=1),\n",
    "            nn.ReLU(inplace=True),\n",
    "            nn.MaxPool2d(4),\n",
    "            nn.Conv2d(64, 64, 3, padding=1),\n",
    "            nn.ReLU(inplace=True),\n",
    "            nn.MaxPool2d(4),    \n",
    "            Flattener(),\n",
    "            nn.Linear(64*2*2, 10),\n",
    "          )\n",
    "\n",
    "nn_model.type(torch.cuda.FloatTensor)\n",
    "nn_model.to(device)\n",
    "\n",
    "loss = nn.CrossEntropyLoss().type(torch.cuda.FloatTensor)\n",
    "optimizer = optim.SGD(nn_model.parameters(), lr=1e-1, weight_decay=1e-4)"
   ]
  },
  {
   "cell_type": "markdown",
   "metadata": {
    "cellId": "4lqhi0gpmwxcv7x8pxba1",
    "execution_id": "d4a1c973-c771-4dbf-8497-3464a6d20243"
   },
   "source": [
    "Восстановите функцию `compute_accuracy` из прошлого задания.  \n",
    "Единственное отличие в новом - она должна передать данные на GPU прежде чем прогонять через модель. Сделайте это так же, как это делает функция `train_model`"
   ]
  },
  {
   "cell_type": "code",
   "execution_count": 9,
   "metadata": {
    "cellId": "xzbfgs6gje8il8427z3t1d",
    "colab": {},
    "colab_type": "code",
    "id": "2ek3KVQK7hJ6"
   },
   "outputs": [
    {
     "name": "stdout",
     "output_type": "stream",
     "text": [
      "Average loss: 1.456528, Train accuracy: 0.508224, Val accuracy: 0.741315\n",
      "Average loss: 0.726194, Train accuracy: 0.778965, Val accuracy: 0.784520\n",
      "Average loss: 0.600988, Train accuracy: 0.819831, Val accuracy: 0.827930\n",
      "Average loss: 0.551137, Train accuracy: 0.835358, Val accuracy: 0.821241\n",
      "Average loss: 0.517445, Train accuracy: 0.846671, Val accuracy: 0.845130\n"
     ]
    }
   ],
   "source": [
    "#!g1.1\n",
    "def train_model(model, train_loader, val_loader, loss, optimizer, num_epochs):    \n",
    "    loss_history = []\n",
    "    train_history = []\n",
    "    val_history = []\n",
    "    for epoch in range(num_epochs):\n",
    "        model.train() # Enter train mode\n",
    "        \n",
    "        loss_accum = 0\n",
    "        correct_samples = 0\n",
    "        total_samples = 0\n",
    "        for i_step, (x, y) in enumerate(train_loader):\n",
    "          \n",
    "            x_gpu = x.to(device)\n",
    "            y_gpu = y.to(device)\n",
    "            prediction = model(x_gpu)    \n",
    "            loss_value = loss(prediction, y_gpu)\n",
    "            optimizer.zero_grad()\n",
    "            loss_value.backward()\n",
    "            optimizer.step()\n",
    "            \n",
    "            _, indices = torch.max(prediction, 1)\n",
    "            correct_samples += torch.sum(indices == y_gpu)\n",
    "            total_samples += y.shape[0]\n",
    "            \n",
    "            loss_accum += loss_value\n",
    "\n",
    "        ave_loss = loss_accum / i_step\n",
    "        train_accuracy = float(correct_samples) / total_samples\n",
    "        val_accuracy = compute_accuracy(model, val_loader)\n",
    "        \n",
    "        loss_history.append(float(ave_loss))\n",
    "        train_history.append(train_accuracy)\n",
    "        val_history.append(val_accuracy)\n",
    "        \n",
    "        print(\"Average loss: %f, Train accuracy: %f, Val accuracy: %f\" % (ave_loss, train_accuracy, val_accuracy))\n",
    "        \n",
    "    return loss_history, train_history, val_history\n",
    "        \n",
    "def compute_accuracy(model, loader):\n",
    "    \"\"\"\n",
    "    Computes accuracy on the dataset wrapped in a loader\n",
    "    \n",
    "    Returns: accuracy as a float value between 0 and 1\n",
    "    \"\"\"\n",
    "    model.eval() # Evaluation mode\n",
    "    # TODO: Implement the inference of the model on all of the batches from loader,\n",
    "    #       and compute the overall accuracy.\n",
    "    # Hint: PyTorch has the argmax function!\n",
    "    correct_samples = 0\n",
    "    total_samples = 0\n",
    "    for i_step, (x, y) in enumerate(loader):\n",
    "        x_gpu = x.to(device)\n",
    "        y_gpu = y.to(device)\n",
    "        prediction = model(x_gpu)    \n",
    "        _, indices = torch.max(prediction, 1)\n",
    "        correct_samples += torch.sum(indices == y_gpu)\n",
    "        total_samples += y.shape[0]\n",
    "    accuracy = float(correct_samples) / total_samples\n",
    "    return accuracy\n",
    "\n",
    "loss_history, train_history, val_history = train_model(nn_model, train_loader, val_loader, loss, optimizer, 5)"
   ]
  },
  {
   "cell_type": "markdown",
   "metadata": {
    "cellId": "kppnt5owi7gu8n1uhh7t4o",
    "colab_type": "text",
    "execution_id": "4bf5a5fa-1a89-4eec-af01-cb49d3a0255d",
    "id": "6a-3a1ZFGEw_"
   },
   "source": [
    "# Аугментация данных (Data augmentation)\n",
    "\n",
    "В работе с изображениями одним из особенно важных методов является аугментация данных - то есть, генерация дополнительных данных для тренировки на основе изначальных.   \n",
    "Таким образом, мы получаем возможность \"увеличить\" набор данных для тренировки, что ведет к лучшей работе сети.\n",
    "Важно, чтобы аугментированные данные были похожи на те, которые могут встретиться в реальной жизни, иначе польза от аугментаций уменьшается и может ухудшить работу сети.\n",
    "\n",
    "С PyTorch идут несколько таких алгоритмов, называемых `transforms`. Более подробно про них можно прочитать тут -\n",
    "https://pytorch.org/tutorials/beginner/data_loading_tutorial.html#transforms\n",
    "\n",
    "Ниже мы используем следующие алгоритмы генерации:\n",
    "- ColorJitter - случайное изменение цвета\n",
    "- RandomHorizontalFlip - горизонтальное отражение с вероятностью 50%\n",
    "- RandomVerticalFlip - вертикальное отражение с вероятностью 50%\n",
    "- RandomRotation - случайный поворот"
   ]
  },
  {
   "cell_type": "code",
   "execution_count": 14,
   "metadata": {
    "cellId": "w4n40s1hz9ktci9u4rki",
    "colab": {},
    "colab_type": "code",
    "id": "jCWMUWmr7t5g"
   },
   "outputs": [
    {
     "name": "stderr",
     "output_type": "stream",
     "text": [
      "/home/agat.local/s.bulganin/.local/lib/python3.9/site-packages/torchvision/transforms/transforms.py:1303: UserWarning: Argument 'interpolation' of type int is deprecated since 0.13 and will be removed in 0.15. Please use InterpolationMode enum.\n",
      "  warnings.warn(\n"
     ]
    }
   ],
   "source": [
    "#!g1.1\n",
    "tfs = transforms.Compose([\n",
    "    transforms.ColorJitter(hue=.50, saturation=.50),\n",
    "    transforms.RandomHorizontalFlip(),\n",
    "    transforms.RandomVerticalFlip(),\n",
    "    transforms.RandomRotation(50, interpolation=PIL.Image.BILINEAR),\n",
    "    transforms.ToTensor(),\n",
    "    \n",
    "    transforms.Normalize(mean=[0.43,0.44,0.47],\n",
    "                       std=[0.20,0.20,0.20])                           \n",
    "])\n",
    "\n",
    "# Create augmented train dataset\n",
    "data_aug_train = dset.SVHN('./', \n",
    "                       transform=tfs\n",
    "                      )\n",
    "\n",
    "train_aug_loader = torch.utils.data.DataLoader(data_aug_train, batch_size=batch_size, \n",
    "                                           sampler=train_sampler)"
   ]
  },
  {
   "cell_type": "markdown",
   "metadata": {
    "cellId": "kwsnk8c0pagcdjhxhg73h",
    "execution_id": "c276e7a6-e8e7-44f6-aa29-2b0d81aa17d0"
   },
   "source": [
    "Визуализируем результаты агментации (вообще, смотреть на сгенерированные данные всегда очень полезно)."
   ]
  },
  {
   "cell_type": "code",
   "execution_count": 16,
   "metadata": {
    "cellId": "zd4ytpvtu8qmswxlngnoe",
    "colab": {},
    "colab_type": "code",
    "id": "YlJJEro1KZ45"
   },
   "outputs": [
    {
     "data": {
      "image/png": "[encoded data removed]",
      "text/plain": [
       "<Figure size 3000x300 with 10 Axes>"
      ]
     },
     "metadata": {},
     "output_type": "display_data"
    }
   ],
   "source": [
    "#!g1.1\n",
    "# TODO: Visualize some augmented images!\n",
    "# hint: you can create new datasets and loaders to accomplish this\n",
    "\n",
    "# Based on the visualizations, should we keep all the augmentations?\n",
    "\n",
    "tfs = transforms.Compose([\n",
    "    transforms.ColorJitter(hue=.20, saturation=.20),\n",
    "    transforms.RandomHorizontalFlip(),\n",
    "    transforms.RandomVerticalFlip(),\n",
    "    transforms.RandomRotation(10, interpolation=PIL.Image.BILINEAR),\n",
    "])\n",
    "\n",
    "data_aug_vis = dset.SVHN('./', \n",
    "                       transform=tfs\n",
    "                      )\n",
    "\n",
    "plt.figure(figsize=(30, 3))\n",
    "\n",
    "for i, (x, y) in enumerate(data_aug_vis):\n",
    "    if i == 10:\n",
    "        break\n",
    "    plt.subplot(1, 10, i+1)\n",
    "    plt.grid(False)\n",
    "    plt.imshow(x)\n",
    "    plt.axis('off')"
   ]
  },
  {
   "cell_type": "markdown",
   "metadata": {
    "cellId": "5mic3l6n32xcpdqbusuah",
    "colab_type": "text",
    "execution_id": "d937098f-6fad-44a0-9d15-bfc9fe570686",
    "id": "o2LrmsYHoguB"
   },
   "source": [
    "Все ли агментации одинаково полезны на этом наборе данных? Могут ли быть среди них те, которые собьют модель с толку?\n",
    "\n",
    "Выберите из них только корректные"
   ]
  },
  {
   "cell_type": "code",
   "execution_count": 17,
   "metadata": {
    "cellId": "fsb03yqhbnopgfvifp2v4",
    "colab": {},
    "colab_type": "code",
    "id": "evro9ksXGs9u"
   },
   "outputs": [],
   "source": [
    "#!g1.1\n",
    "# TODO: \n",
    "tfs = transforms.Compose([\n",
    "    # TODO: Add good augmentations\n",
    "    transforms.ToTensor(),\n",
    "    transforms.Normalize(mean=[0.43,0.44,0.47],\n",
    "                       std=[0.20,0.20,0.20])                           \n",
    "])\n",
    "\n",
    "data_aug_train = dset.SVHN('./', \n",
    "                       transform=tfs\n",
    "                      )\n",
    "train_aug_loader = torch.utils.data.DataLoader(data_aug_train, batch_size=batch_size, \n",
    "                                               sampler=train_sampler)"
   ]
  },
  {
   "cell_type": "code",
   "execution_count": 18,
   "metadata": {
    "cellId": "mm574xzxa1430o3w7rqo2",
    "colab": {},
    "colab_type": "code",
    "id": "PeO6Zw0DHqPR"
   },
   "outputs": [
    {
     "name": "stdout",
     "output_type": "stream",
     "text": [
      "Average loss: 0.496502, Train accuracy: 0.853036, Val accuracy: 0.840352\n",
      "Average loss: 0.475527, Train accuracy: 0.857608, Val accuracy: 0.828339\n",
      "Average loss: 0.454757, Train accuracy: 0.863069, Val accuracy: 0.839533\n",
      "Average loss: 0.449276, Train accuracy: 0.864877, Val accuracy: 0.857484\n",
      "Average loss: 0.434027, Train accuracy: 0.869245, Val accuracy: 0.853798\n",
      "Average loss: 0.423756, Train accuracy: 0.873494, Val accuracy: 0.836803\n",
      "Average loss: 0.416965, Train accuracy: 0.873870, Val accuracy: 0.856187\n",
      "Average loss: 0.405399, Train accuracy: 0.878852, Val accuracy: 0.856597\n",
      "Average loss: 0.396256, Train accuracy: 0.880917, Val accuracy: 0.871476\n",
      "Average loss: 0.391777, Train accuracy: 0.882845, Val accuracy: 0.866084\n",
      "Average loss: 0.382119, Train accuracy: 0.885507, Val accuracy: 0.867722\n",
      "Average loss: 0.378713, Train accuracy: 0.887093, Val accuracy: 0.869360\n",
      "Average loss: 0.372034, Train accuracy: 0.888527, Val accuracy: 0.864105\n",
      "Average loss: 0.363235, Train accuracy: 0.890591, Val accuracy: 0.864719\n",
      "Average loss: 0.359196, Train accuracy: 0.890574, Val accuracy: 0.833185\n",
      "Average loss: 0.355399, Train accuracy: 0.893782, Val accuracy: 0.859941\n",
      "Average loss: 0.351712, Train accuracy: 0.893304, Val accuracy: 0.867449\n",
      "Average loss: 0.349034, Train accuracy: 0.894089, Val accuracy: 0.854959\n",
      "Average loss: 0.344263, Train accuracy: 0.896819, Val accuracy: 0.864719\n",
      "Average loss: 0.337623, Train accuracy: 0.897246, Val accuracy: 0.845676\n"
     ]
    }
   ],
   "source": [
    "#!g1.1\n",
    "# Finally, let's train with augmentations!\n",
    "\n",
    "# Note we shouldn't use augmentations on validation\n",
    "\n",
    "loss_history, train_history, val_history = train_model(nn_model, train_aug_loader, val_loader, loss, optimizer, 20)"
   ]
  },
  {
   "cell_type": "markdown",
   "metadata": {
    "cellId": "a4vsyags4qv6rmo76jvke8",
    "colab_type": "text",
    "execution_id": "30280b66-e614-4742-a193-c83c15be9b62",
    "id": "r0bcioK6JBDK"
   },
   "source": [
    "# LeNet\n",
    "Попробуем имплементировать классическую архитектуру сверточной нейронной сети, предложенную Яном ЛеКуном в 1998 году. В свое время она достигла впечатляющих результатов на MNIST, посмотрим как она справится с SVHN?\n",
    "Она описана в статье [\"Gradient Based Learning Applied to Document Recognition\"](http://yann.lecun.com/exdb/publis/pdf/lecun-01a.pdf), попробуйте прочитать ключевые части и имплементировать предложенную архитетуру на PyTorch.\n",
    "\n",
    "Реализовывать слои и функцию ошибки LeNet, которых нет в PyTorch, **не нужно** - просто возьмите их размеры и переведите в уже известные нам Convolutional, Pooling и Fully Connected layers.\n",
    "\n",
    "Если в статье не очень понятно, можно просто погуглить LeNet и разобраться в деталях :)"
   ]
  },
  {
   "cell_type": "code",
   "execution_count": 19,
   "metadata": {
    "cellId": "4m5vr6pg1eu6gwdvuznwcn",
    "colab": {},
    "colab_type": "code",
    "id": "ieEzZUglJAUB"
   },
   "outputs": [],
   "source": [
    "#!g1.1\n",
    "# TODO: Implement LeNet-like architecture for SVHN task\n",
    "lenet_model = nn.Sequential(\n",
    "    nn.Conv2d(3, 6, 5),\n",
    "    nn.ReLU(inplace=True),\n",
    "    nn.MaxPool2d(2, stride=2),\n",
    "    nn.Conv2d(6, 16, 5),\n",
    "    nn.ReLU(inplace=True),\n",
    "    nn.MaxPool2d(2, stride=2),   \n",
    "    nn.Conv2d(16, 120, 5),\n",
    "    nn.ReLU(inplace=True),\n",
    "    Flattener(),\n",
    "    nn.Linear(120, 84),\n",
    "    nn.ReLU(inplace=True),\n",
    "    nn.Linear(84, 10)\n",
    ")\n",
    "\n",
    "lenet_model.type(torch.cuda.FloatTensor)\n",
    "lenet_model.to(device)\n",
    "\n",
    "loss = nn.CrossEntropyLoss().type(torch.cuda.FloatTensor)\n",
    "optimizer = optim.SGD(lenet_model.parameters(), lr=1e-1, weight_decay=1e-4)"
   ]
  },
  {
   "cell_type": "code",
   "execution_count": 20,
   "metadata": {
    "cellId": "18rh1azry5f2a2azxp1dib",
    "colab": {},
    "colab_type": "code",
    "id": "WMmaPfdeKk9H"
   },
   "outputs": [
    {
     "name": "stdout",
     "output_type": "stream",
     "text": [
      "Average loss: 1.316673, Train accuracy: 0.557093, Val accuracy: 0.805611\n",
      "Average loss: 0.509346, Train accuracy: 0.852046, Val accuracy: 0.854208\n",
      "Average loss: 0.410689, Train accuracy: 0.879790, Val accuracy: 0.882465\n",
      "Average loss: 0.355371, Train accuracy: 0.896017, Val accuracy: 0.886219\n",
      "Average loss: 0.313552, Train accuracy: 0.907091, Val accuracy: 0.878097\n",
      "Average loss: 0.285830, Train accuracy: 0.914121, Val accuracy: 0.886151\n",
      "Average loss: 0.258872, Train accuracy: 0.923250, Val accuracy: 0.894956\n",
      "Average loss: 0.235061, Train accuracy: 0.929546, Val accuracy: 0.866152\n",
      "Average loss: 0.221143, Train accuracy: 0.932703, Val accuracy: 0.894819\n",
      "Average loss: 0.207586, Train accuracy: 0.937037, Val accuracy: 0.894205\n",
      "Average loss: 0.193573, Train accuracy: 0.940245, Val accuracy: 0.889496\n",
      "Average loss: 0.186062, Train accuracy: 0.942480, Val accuracy: 0.893318\n",
      "Average loss: 0.168697, Train accuracy: 0.946763, Val accuracy: 0.889154\n",
      "Average loss: 0.168188, Train accuracy: 0.946319, Val accuracy: 0.886902\n",
      "Average loss: 0.153475, Train accuracy: 0.952275, Val accuracy: 0.884308\n",
      "Average loss: 0.152435, Train accuracy: 0.951182, Val accuracy: 0.893796\n",
      "Average loss: 0.153102, Train accuracy: 0.951251, Val accuracy: 0.890178\n",
      "Average loss: 0.139032, Train accuracy: 0.955397, Val accuracy: 0.893250\n",
      "Average loss: 0.141145, Train accuracy: 0.954988, Val accuracy: 0.889291\n",
      "Average loss: 0.137884, Train accuracy: 0.956165, Val accuracy: 0.883694\n"
     ]
    }
   ],
   "source": [
    "#!g1.1\n",
    "# Let's train it!\n",
    "loss_history, train_history, val_history = train_model(lenet_model, train_aug_loader, val_loader, loss, optimizer, 20)"
   ]
  },
  {
   "cell_type": "markdown",
   "metadata": {
    "cellId": "0eyjhj940encl73syfxs26",
    "colab_type": "text",
    "execution_id": "b97d4738-0652-4962-8051-047315557aa3",
    "id": "u_O9qiYySvuj"
   },
   "source": [
    "# Подбор гиперпараметров"
   ]
  },
  {
   "cell_type": "code",
   "execution_count": 21,
   "metadata": {
    "cellId": "oc0lnns80en7bk2o043se"
   },
   "outputs": [],
   "source": [
    "#!g1.1\n",
    "def train_model(model, train_loader, val_loader, loss, optimizer, num_epochs, step_size):   \n",
    "    scheduler = optim.lr_scheduler.StepLR(optimizer, step_size=step_size, gamma=0.5)\n",
    "    loss_history = []\n",
    "    train_history = []\n",
    "    val_history = []\n",
    "    for epoch in range(num_epochs):\n",
    "        model.train() # Enter train mode\n",
    "        scheduler.step()\n",
    "        loss_accum = 0\n",
    "        correct_samples = 0\n",
    "        total_samples = 0\n",
    "        for i_step, (x, y) in enumerate(train_loader):\n",
    "          \n",
    "            x_gpu = x.to(device)\n",
    "            y_gpu = y.to(device)\n",
    "            prediction = model(x_gpu)    \n",
    "            loss_value = loss(prediction, y_gpu)\n",
    "            optimizer.zero_grad()\n",
    "            loss_value.backward()\n",
    "            optimizer.step()\n",
    "            \n",
    "            _, indices = torch.max(prediction, 1)\n",
    "            correct_samples += torch.sum(indices == y_gpu)\n",
    "            total_samples += y.shape[0]\n",
    "            \n",
    "            loss_accum += loss_value\n",
    "\n",
    "        ave_loss = loss_accum / i_step\n",
    "        train_accuracy = float(correct_samples) / total_samples\n",
    "        val_accuracy = compute_accuracy(model, val_loader)\n",
    "        \n",
    "        loss_history.append(float(ave_loss))\n",
    "        train_history.append(train_accuracy)\n",
    "        val_history.append(val_accuracy)\n",
    "        \n",
    "        print(\"Average loss: %f, Train accuracy: %f, Val accuracy: %f\" % (ave_loss, train_accuracy, val_accuracy))\n",
    "        \n",
    "    return loss_history, train_history, val_history"
   ]
  },
  {
   "cell_type": "code",
   "execution_count": 22,
   "metadata": {
    "cellId": "tyaimck8qoxv04laoagfa",
    "colab": {},
    "colab_type": "code",
    "id": "i6mhfdQ9K-N3"
   },
   "outputs": [
    {
     "name": "stdout",
     "output_type": "stream",
     "text": [
      "lr=0.001, anneal_epochs=50, reg=1e-07\n"
     ]
    },
    {
     "name": "stderr",
     "output_type": "stream",
     "text": [
      "/home/agat.local/s.bulganin/.local/lib/python3.9/site-packages/torch/optim/lr_scheduler.py:138: UserWarning: Detected call of `lr_scheduler.step()` before `optimizer.step()`. In PyTorch 1.1.0 and later, you should call them in the opposite order: `optimizer.step()` before `lr_scheduler.step()`.  Failure to do this will result in PyTorch skipping the first value of the learning rate schedule. See more details at https://pytorch.org/docs/stable/optim.html#how-to-adjust-learning-rate\n",
      "  warnings.warn(\"Detected call of `lr_scheduler.step()` before `optimizer.step()`. \"\n"
     ]
    },
    {
     "name": "stdout",
     "output_type": "stream",
     "text": [
      "Average loss: 0.093093, Train accuracy: 0.969474, Val accuracy: 0.899802\n",
      "Average loss: 0.071635, Train accuracy: 0.977408, Val accuracy: 0.901577\n",
      "Average loss: 0.065481, Train accuracy: 0.980156, Val accuracy: 0.902327\n",
      "Average loss: 0.061394, Train accuracy: 0.981913, Val accuracy: 0.902464\n",
      "Average loss: 0.058359, Train accuracy: 0.982869, Val accuracy: 0.903283\n",
      "Average loss: 0.055995, Train accuracy: 0.983739, Val accuracy: 0.903761\n",
      "Average loss: 0.054000, Train accuracy: 0.984541, Val accuracy: 0.904512\n",
      "Average loss: 0.052351, Train accuracy: 0.985104, Val accuracy: 0.904921\n",
      "Average loss: 0.050867, Train accuracy: 0.985667, Val accuracy: 0.905194\n",
      "Average loss: 0.049580, Train accuracy: 0.986367, Val accuracy: 0.905399\n",
      "lr=0.0001, anneal_epochs=20, reg=1e-07\n",
      "Average loss: 0.048460, Train accuracy: 0.986725, Val accuracy: 0.905331\n",
      "Average loss: 0.048354, Train accuracy: 0.986725, Val accuracy: 0.905262\n",
      "Average loss: 0.048227, Train accuracy: 0.986810, Val accuracy: 0.905331\n",
      "Average loss: 0.048108, Train accuracy: 0.986878, Val accuracy: 0.905399\n",
      "Average loss: 0.048003, Train accuracy: 0.986844, Val accuracy: 0.905331\n",
      "Average loss: 0.047897, Train accuracy: 0.986930, Val accuracy: 0.905535\n",
      "Average loss: 0.047787, Train accuracy: 0.987015, Val accuracy: 0.905535\n",
      "Average loss: 0.047691, Train accuracy: 0.987049, Val accuracy: 0.905672\n",
      "Average loss: 0.047587, Train accuracy: 0.987066, Val accuracy: 0.905672\n",
      "Average loss: 0.047481, Train accuracy: 0.987083, Val accuracy: 0.905604\n",
      "lr=0.001, anneal_epochs=50, reg=0.0001\n",
      "Average loss: 0.047342, Train accuracy: 0.987305, Val accuracy: 0.905672\n",
      "Average loss: 0.046412, Train accuracy: 0.987493, Val accuracy: 0.905740\n",
      "Average loss: 0.045494, Train accuracy: 0.987971, Val accuracy: 0.905604\n",
      "Average loss: 0.044657, Train accuracy: 0.988107, Val accuracy: 0.905399\n",
      "Average loss: 0.043911, Train accuracy: 0.988363, Val accuracy: 0.905262\n",
      "Average loss: 0.043138, Train accuracy: 0.988670, Val accuracy: 0.905331\n",
      "Average loss: 0.042452, Train accuracy: 0.988892, Val accuracy: 0.905126\n",
      "Average loss: 0.041793, Train accuracy: 0.989097, Val accuracy: 0.904785\n",
      "Average loss: 0.041162, Train accuracy: 0.989267, Val accuracy: 0.905058\n",
      "Average loss: 0.040623, Train accuracy: 0.989540, Val accuracy: 0.905331\n",
      "lr=0.0001, anneal_epochs=5, reg=1e-07\n",
      "Average loss: 0.039908, Train accuracy: 0.989745, Val accuracy: 0.905331\n",
      "Average loss: 0.039849, Train accuracy: 0.989847, Val accuracy: 0.905262\n",
      "Average loss: 0.039786, Train accuracy: 0.989899, Val accuracy: 0.905194\n",
      "Average loss: 0.039730, Train accuracy: 0.989916, Val accuracy: 0.905126\n",
      "Average loss: 0.039659, Train accuracy: 0.989967, Val accuracy: 0.905126\n",
      "Average loss: 0.039629, Train accuracy: 0.989984, Val accuracy: 0.905126\n",
      "Average loss: 0.039598, Train accuracy: 0.990001, Val accuracy: 0.905126\n",
      "Average loss: 0.039569, Train accuracy: 0.990001, Val accuracy: 0.905126\n",
      "Average loss: 0.039544, Train accuracy: 0.990052, Val accuracy: 0.905126\n",
      "Average loss: 0.039512, Train accuracy: 0.990103, Val accuracy: 0.905126\n",
      "lr=1.0, anneal_epochs=50, reg=1e-05\n",
      "Average loss: 1136305766400.000000, Train accuracy: 0.188854, Val accuracy: 0.188520\n",
      "Average loss: 2.242255, Train accuracy: 0.188069, Val accuracy: 0.188520\n",
      "Average loss: 2.242112, Train accuracy: 0.188633, Val accuracy: 0.188520\n",
      "Average loss: 2.242244, Train accuracy: 0.188308, Val accuracy: 0.188520\n",
      "Average loss: 2.242092, Train accuracy: 0.188752, Val accuracy: 0.188520\n",
      "Average loss: 2.241715, Train accuracy: 0.188479, Val accuracy: 0.188520\n",
      "Average loss: 2.241777, Train accuracy: 0.188650, Val accuracy: 0.188520\n",
      "Average loss: 2.242210, Train accuracy: 0.188633, Val accuracy: 0.188520\n",
      "Average loss: 2.242322, Train accuracy: 0.188940, Val accuracy: 0.188520\n",
      "Average loss: 2.242207, Train accuracy: 0.188496, Val accuracy: 0.188520\n",
      "lr=0.0001, anneal_epochs=15, reg=1e-07\n",
      "Average loss: 2.242085, Train accuracy: 0.189366, Val accuracy: 0.188520\n",
      "Average loss: 2.242048, Train accuracy: 0.189366, Val accuracy: 0.188520\n",
      "Average loss: 2.241961, Train accuracy: 0.189366, Val accuracy: 0.188520\n",
      "Average loss: 2.241863, Train accuracy: 0.189366, Val accuracy: 0.188520\n",
      "Average loss: 2.241806, Train accuracy: 0.189366, Val accuracy: 0.188520\n",
      "Average loss: 2.241750, Train accuracy: 0.189366, Val accuracy: 0.188520\n",
      "Average loss: 2.241670, Train accuracy: 0.189366, Val accuracy: 0.188520\n",
      "Average loss: 2.241567, Train accuracy: 0.189366, Val accuracy: 0.188520\n",
      "Average loss: 2.241546, Train accuracy: 0.189366, Val accuracy: 0.188520\n",
      "Average loss: 2.241462, Train accuracy: 0.189366, Val accuracy: 0.188520\n",
      "lr=1.0, anneal_epochs=10, reg=0.001\n",
      "Average loss: 2.241999, Train accuracy: 0.188462, Val accuracy: 0.188520\n",
      "Average loss: 2.241969, Train accuracy: 0.188871, Val accuracy: 0.188520\n",
      "Average loss: 2.242101, Train accuracy: 0.188240, Val accuracy: 0.188520\n",
      "Average loss: 2.247791, Train accuracy: 0.188684, Val accuracy: 0.188656\n",
      "Average loss: 2.242419, Train accuracy: 0.188342, Val accuracy: 0.188656\n",
      "Average loss: 2.242221, Train accuracy: 0.188223, Val accuracy: 0.188656\n",
      "Average loss: 2.242355, Train accuracy: 0.188906, Val accuracy: 0.188656\n",
      "Average loss: 2.242024, Train accuracy: 0.188377, Val accuracy: 0.188656\n",
      "Average loss: 2.242111, Train accuracy: 0.188342, Val accuracy: 0.188656\n",
      "Average loss: 2.240194, Train accuracy: 0.189349, Val accuracy: 0.188656\n",
      "lr=0.0001, anneal_epochs=15, reg=1e-05\n",
      "Average loss: 2.241578, Train accuracy: 0.189349, Val accuracy: 0.188656\n",
      "Average loss: 2.241464, Train accuracy: 0.189349, Val accuracy: 0.188656\n",
      "Average loss: 2.241385, Train accuracy: 0.189349, Val accuracy: 0.188656\n",
      "Average loss: 2.241283, Train accuracy: 0.189349, Val accuracy: 0.188656\n",
      "Average loss: 2.241190, Train accuracy: 0.189349, Val accuracy: 0.188656\n",
      "Average loss: 2.241177, Train accuracy: 0.189349, Val accuracy: 0.188656\n",
      "Average loss: 2.241092, Train accuracy: 0.189349, Val accuracy: 0.188656\n",
      "Average loss: 2.241004, Train accuracy: 0.189349, Val accuracy: 0.188656\n",
      "Average loss: 2.240967, Train accuracy: 0.189349, Val accuracy: 0.188656\n",
      "Average loss: 2.240880, Train accuracy: 0.189349, Val accuracy: 0.188656\n",
      "lr=0.0001, anneal_epochs=50, reg=0.001\n",
      "Average loss: 2.240784, Train accuracy: 0.189349, Val accuracy: 0.188656\n",
      "Average loss: 2.240760, Train accuracy: 0.189349, Val accuracy: 0.188656\n",
      "Average loss: 2.240690, Train accuracy: 0.189349, Val accuracy: 0.188656\n",
      "Average loss: 2.240622, Train accuracy: 0.189349, Val accuracy: 0.188656\n",
      "Average loss: 2.240553, Train accuracy: 0.189349, Val accuracy: 0.188656\n",
      "Average loss: 2.240508, Train accuracy: 0.189349, Val accuracy: 0.188656\n",
      "Average loss: 2.240415, Train accuracy: 0.189349, Val accuracy: 0.188656\n",
      "Average loss: 2.240399, Train accuracy: 0.189349, Val accuracy: 0.188656\n",
      "Average loss: 2.240349, Train accuracy: 0.189349, Val accuracy: 0.188656\n",
      "Average loss: 2.240257, Train accuracy: 0.189349, Val accuracy: 0.188656\n",
      "lr=0.001, anneal_epochs=20, reg=0.001\n",
      "Average loss: 2.240045, Train accuracy: 0.189349, Val accuracy: 0.188656\n",
      "Average loss: 2.239705, Train accuracy: 0.189349, Val accuracy: 0.188656\n",
      "Average loss: 2.239420, Train accuracy: 0.189349, Val accuracy: 0.188656\n",
      "Average loss: 2.239221, Train accuracy: 0.189349, Val accuracy: 0.188656\n",
      "Average loss: 2.239085, Train accuracy: 0.189349, Val accuracy: 0.188656\n",
      "Average loss: 2.238958, Train accuracy: 0.189349, Val accuracy: 0.188656\n",
      "Average loss: 2.238839, Train accuracy: 0.189349, Val accuracy: 0.188656\n",
      "Average loss: 2.238769, Train accuracy: 0.189349, Val accuracy: 0.188656\n",
      "Average loss: 2.238729, Train accuracy: 0.189349, Val accuracy: 0.188656\n",
      "Average loss: 2.238698, Train accuracy: 0.189349, Val accuracy: 0.188656\n"
     ]
    }
   ],
   "source": [
    "#!g1.1\n",
    "# The key hyperparameters we're going to tune are learning speed, annealing rate and regularization\n",
    "# We also encourage you to try different optimizers as well\n",
    "\n",
    "Hyperparams = namedtuple(\"Hyperparams\", ['learning_rate', 'anneal_epochs', 'reg'])\n",
    "RunResult = namedtuple(\"RunResult\", ['model', 'train_history', 'val_history', 'final_val_accuracy'])\n",
    "\n",
    "learning_rates = [1e0, 1e-1, 1e-2, 1e-3, 1e-4]\n",
    "anneal_coeff = 0.2\n",
    "anneal_epochs = [1, 5, 10, 15, 20, 50]\n",
    "reg = [1e-3, 1e-4, 1e-5, 1e-7]\n",
    "\n",
    "batch_size = 64\n",
    "epoch_num = 10\n",
    "\n",
    "# Record all the runs here\n",
    "# Key should be Hyperparams and values should be RunResult\n",
    "run_record = {} \n",
    "\n",
    "# Use grid search or random search and record all runs in run_record dictionnary \n",
    "# Important: perform search in logarithmic space!\n",
    "\n",
    "# TODO: Your code here!\n",
    "\n",
    "import random\n",
    "params_grid = [learning_rates, anneal_epochs, reg]\n",
    "\n",
    "n_results = 10\n",
    "for i in range(n_results):\n",
    "    params = [random.sample(param, 1)[0] for param in params_grid]\n",
    "    print(f\"lr={params[0]}, anneal_epochs={params[1]}, reg={params[2]}\")\n",
    "    \n",
    "    optimizer = optim.SGD(lenet_model.parameters(), lr=params[0], weight_decay=params[2])\n",
    "    _, train_history, val_history = train_model(lenet_model, train_aug_loader, val_loader, \n",
    "                                                loss, optimizer, epoch_num, params[1])\n",
    "    run_record[Hyperparams(*params)] = RunResult(lenet_model, train_history, \n",
    "                                                 val_history, val_history[-1])"
   ]
  },
  {
   "cell_type": "code",
   "execution_count": 23,
   "metadata": {
    "cellId": "kfyfpklumqwboah9sh2j",
    "colab": {
     "base_uri": "https://localhost:8080/",
     "height": 34
    },
    "colab_type": "code",
    "id": "Y6xExdw8JB1l",
    "outputId": "a9ad86f8-3e29-45cc-d33f-e6170018a4ed"
   },
   "outputs": [
    {
     "name": "stdout",
     "output_type": "stream",
     "text": [
      "Best validation accuracy: 0.91, best hyperparams: Hyperparams(learning_rate=0.0001, anneal_epochs=20, reg=1e-07)\n"
     ]
    }
   ],
   "source": [
    "#!g1.1\n",
    "best_val_accuracy = None\n",
    "best_hyperparams = None\n",
    "best_run = None\n",
    "\n",
    "for hyperparams, run_result in run_record.items():\n",
    "    if best_val_accuracy is None or best_val_accuracy < run_result.final_val_accuracy:\n",
    "        best_val_accuracy = run_result.final_val_accuracy\n",
    "        best_hyperparams = hyperparams\n",
    "        best_run = run_result\n",
    "        \n",
    "print(\"Best validation accuracy: %4.2f, best hyperparams: %s\" % (best_val_accuracy, best_hyperparams))\n",
    "        "
   ]
  },
  {
   "cell_type": "markdown",
   "metadata": {
    "cellId": "z0zvjmg2d2qbt9kha17o0i",
    "colab_type": "text",
    "execution_id": "d464cf6a-fcb9-4386-9f80-1d2bb6dab961",
    "id": "LOmsR0uVgtgf"
   },
   "source": [
    "# Свободное упражнение - догоним и перегоним LeNet!\n",
    "\n",
    "Попробуйте найти архитектуру и настройки тренировки, чтобы выступить лучше наших бейзлайнов.\n",
    "\n",
    "Что можно и нужно попробовать:\n",
    "- BatchNormalization (для convolution layers он в PyTorch называется [batchnorm2d](https://pytorch.org/docs/stable/nn.html#batchnorm2d))\n",
    "- Изменить количество слоев и их толщину\n",
    "- Изменять количество эпох тренировки\n",
    "- Попробовать и другие агментации"
   ]
  },
  {
   "cell_type": "code",
   "execution_count": 43,
   "metadata": {
    "cellId": "watftx4vhjsqdq2c410jb"
   },
   "outputs": [
    {
     "name": "stderr",
     "output_type": "stream",
     "text": [
      "/usr/local/lib/python3.8/dist-packages/torch/optim/lr_scheduler.py:129: UserWarning: Detected call of `lr_scheduler.step()` before `optimizer.step()`. In PyTorch 1.1.0 and later, you should call them in the opposite order: `optimizer.step()` before `lr_scheduler.step()`.  Failure to do this will result in PyTorch skipping the first value of the learning rate schedule. See more details at https://pytorch.org/docs/stable/optim.html#how-to-adjust-learning-rate\n",
      "  warnings.warn(\"Detected call of `lr_scheduler.step()` before `optimizer.step()`. \"\n"
     ]
    },
    {
     "name": "stdout",
     "output_type": "stream",
     "text": [
      "Average loss: 0.703309, Train accuracy: 0.782992, Val accuracy: 0.882192\n",
      "Average loss: 0.326297, Train accuracy: 0.901153, Val accuracy: 0.915637\n",
      "Average loss: 0.247466, Train accuracy: 0.925724, Val accuracy: 0.926626\n",
      "Average loss: 0.206473, Train accuracy: 0.939170, Val accuracy: 0.930926\n",
      "Average loss: 0.178806, Train accuracy: 0.948367, Val accuracy: 0.934817\n",
      "Average loss: 0.167404, Train accuracy: 0.951421, Val accuracy: 0.934407\n",
      "Average loss: 0.161589, Train accuracy: 0.953179, Val accuracy: 0.934202\n",
      "Average loss: 0.157355, Train accuracy: 0.955124, Val accuracy: 0.934612\n",
      "Average loss: 0.159279, Train accuracy: 0.954749, Val accuracy: 0.935431\n",
      "Average loss: 0.156535, Train accuracy: 0.954715, Val accuracy: 0.935158\n",
      "Average loss: 0.154050, Train accuracy: 0.955790, Val accuracy: 0.935022\n",
      "Average loss: 0.153760, Train accuracy: 0.956370, Val accuracy: 0.934817\n",
      "Average loss: 0.154715, Train accuracy: 0.955841, Val accuracy: 0.935363\n",
      "Average loss: 0.156259, Train accuracy: 0.955670, Val accuracy: 0.935363\n",
      "Average loss: 0.154136, Train accuracy: 0.956148, Val accuracy: 0.934953\n",
      "Average loss: 0.153684, Train accuracy: 0.956336, Val accuracy: 0.935022\n",
      "Average loss: 0.154699, Train accuracy: 0.955824, Val accuracy: 0.935295\n",
      "Average loss: 0.155570, Train accuracy: 0.954953, Val accuracy: 0.935363\n",
      "Average loss: 0.153709, Train accuracy: 0.957120, Val accuracy: 0.935636\n",
      "Average loss: 0.154680, Train accuracy: 0.955022, Val accuracy: 0.935499\n"
     ]
    }
   ],
   "source": [
    "#!g1.1\n",
    "best_model = nn.Sequential(\n",
    "    nn.Conv2d(3, 32, 3, padding=1),\n",
    "    nn.BatchNorm2d(32),\n",
    "    nn.ReLU(inplace=True),\n",
    "    nn.Dropout(0.25),\n",
    "    nn.Conv2d(32, 128, 3, stride=2, padding=1),\n",
    "    nn.BatchNorm2d(128),\n",
    "    nn.ReLU(inplace=True),\n",
    "    nn.Dropout(0.25),\n",
    "    nn.Conv2d(128, 256, 5, stride=2),\n",
    "    nn.BatchNorm2d(256),\n",
    "    nn.ReLU(inplace=True),\n",
    "    nn.Dropout(0.25),\n",
    "    nn.Conv2d(256, 256, 5, stride=2, padding=2),\n",
    "    nn.BatchNorm2d(256),\n",
    "    nn.ReLU(inplace=True),\n",
    "    nn.Dropout(0.25),\n",
    "    nn.Conv2d(256, 256, 5, stride=2, padding=2),\n",
    "    nn.BatchNorm2d(256),\n",
    "    nn.ReLU(inplace=True),\n",
    "    Flattener(),\n",
    "    nn.Linear(1024, 64),\n",
    "    nn.BatchNorm1d(64),\n",
    "    nn.ReLU(inplace=True),\n",
    "    nn.Linear(64, 10)\n",
    ")\n",
    "\n",
    "for module in best_model.parameters():\n",
    "    if isinstance(module, (nn.Conv2d, nn.Linear)):\n",
    "        nn.init.xavier_uniform_(module.weight, gain=nn.init.calculate_gain('relu'))\n",
    "\n",
    "    \n",
    "best_model.type(torch.cuda.FloatTensor)\n",
    "best_model.to(device)\n",
    "\n",
    "loss = nn.CrossEntropyLoss().type(torch.cuda.FloatTensor)\n",
    "optimizer = optim.RMSprop(best_model.parameters(), lr=1e-3, weight_decay=1e-5)\n",
    "loss_history, train_history, val_history = train_model(best_model, train_aug_loader, val_loader, loss, optimizer, 20, 1)\n"
   ]
  },
  {
   "cell_type": "markdown",
   "metadata": {
    "cellId": "fo628pc5l349oy4lx2z14",
    "colab_type": "text",
    "execution_id": "2f458ad7-cdab-4f4c-8af4-af0b4d21cec8",
    "id": "ubeKgBcnhx7N"
   },
   "source": [
    "# Финальный аккорд - проверим лучшую модель на test set\n",
    "\n",
    "В качестве разнообразия - напишите код для прогона модели на test set вы.\n",
    "\n",
    "В результате вы должны натренировать модель, которая покажет более **90%** точности на test set.  \n",
    "Как водится, лучший результат в группе получит дополнительные баллы!"
   ]
  },
  {
   "cell_type": "code",
   "execution_count": 44,
   "metadata": {
    "cellId": "8czrmn2e86yb2rus726sa7",
    "colab": {},
    "colab_type": "code",
    "id": "EIqM1kdeh-hd"
   },
   "outputs": [
    {
     "name": "stdout",
     "output_type": "stream",
     "text": [
      "Final test accuracy -  0.9295866625691457\n"
     ]
    }
   ],
   "source": [
    "#!g1.1\n",
    "test_loader = torch.utils.data.DataLoader(data_test, batch_size=batch_size)\n",
    "final_test_accuracy = compute_accuracy(best_model, test_loader)\n",
    "print(\"Final test accuracy - \", final_test_accuracy)"
   ]
  },
  {
   "cell_type": "code",
   "execution_count": 28,
   "metadata": {
    "cellId": "utrt87i5p4jrwtlmphvpck"
   },
   "outputs": [],
   "source": [
    "#!g1.1\n"
   ]
  },
  {
   "cell_type": "code",
   "execution_count": 29,
   "metadata": {
    "cellId": "opd27ga8fuincio01ni579"
   },
   "outputs": [],
   "source": [
    "#!g1.1\n"
   ]
  },
  {
   "cell_type": "code",
   "execution_count": null,
   "metadata": {
    "cellId": "6p5gbb000bszkj0mmtyvhi"
   },
   "outputs": [],
   "source": [
    "#!g1.1\n"
   ]
  }
 ],
 "metadata": {
  "accelerator": "GPU",
  "colab": {
   "collapsed_sections": [],
   "name": "PyTorch_CNN.ipynb",
   "provenance": [],
   "version": "0.3.2"
  },
  "kernelspec": {
   "display_name": "Python 3 (ipykernel)",
   "language": "python",
   "name": "python3"
  },
  "language_info": {
   "codemirror_mode": {
    "name": "ipython",
    "version": 3
   },
   "file_extension": ".py",
   "mimetype": "text/x-python",
   "name": "python",
   "nbconvert_exporter": "python",
   "pygments_lexer": "ipython3",
   "version": "3.9.2"
  },
  "notebookId": "9bfed852-772d-4f51-807b-29691bb4cbf9",
  "notebookPath": "dlcourse_ai-master/assignments/assignment3/PyTorch_CNN.ipynb"
 },
 "nbformat": 4,
 "nbformat_minor": 4
}
