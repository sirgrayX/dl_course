{
 "cells": [
  {
   "cell_type": "markdown",
   "metadata": {
    "cellId": "zl4kd3ef4p1xq43kbsc5o",
    "execution_id": "6d6a01c5-18f2-42be-a327-80c62fa3e1cf"
   },
   "source": [
    "# Задание 5.1 - Word2Vec\n",
    "\n",
    "В этом задании мы натренируем свои word vectors на очень небольшом датасете.\n",
    "Мы будем использовать самую простую версию word2vec, без negative sampling и других оптимизаций.\n",
    "\n",
    "Перед запуском нужно запустить скрипт `download_data.sh` чтобы скачать данные.\n",
    "\n",
    "Датасет и модель очень небольшие, поэтому это задание можно выполнить и без GPU."
   ]
  },
  {
   "cell_type": "code",
   "execution_count": 1,
   "metadata": {
    "cellId": "07dhq7ggcv8dlkkwe5jdryb",
    "jupyter": {
     "outputs_hidden": true
    }
   },
   "outputs": [
    {
     "name": "stdout",
     "output_type": "stream",
     "text": [
      "--2023-02-21 00:08:41--  http://nlp.stanford.edu/~socherr/stanfordSentimentTreebank.zip\n",
      "Распознаётся nlp.stanford.edu (nlp.stanford.edu)… 171.64.67.140\n",
      "Подключение к nlp.stanford.edu (nlp.stanford.edu)|171.64.67.140|:80... соединение установлено.\n",
      "HTTP-запрос отправлен. Ожидание ответа… 302 Found\n",
      "Адрес: https://nlp.stanford.edu/~socherr/stanfordSentimentTreebank.zip [переход]\n",
      "--2023-02-21 00:08:41--  https://nlp.stanford.edu/~socherr/stanfordSentimentTreebank.zip\n",
      "Подключение к nlp.stanford.edu (nlp.stanford.edu)|171.64.67.140|:443... соединение установлено.\n",
      "HTTP-запрос отправлен. Ожидание ответа… 200 OK\n",
      "Длина: 6372817 (6,1M) [application/zip]\n",
      "Сохранение в: «stanfordSentimentTreebank.zip»\n",
      "\n",
      "stanfordSentimentTr 100%[===================>]   6,08M   766KB/s    за 9,5s    \n",
      "\n",
      "2023-02-21 00:08:52 (657 KB/s) - «stanfordSentimentTreebank.zip» сохранён [6372817/6372817]\n",
      "\n",
      "Archive:  stanfordSentimentTreebank.zip\n",
      "   creating: stanfordSentimentTreebank/\n",
      "  inflating: stanfordSentimentTreebank/datasetSentences.txt  \n",
      "   creating: __MACOSX/\n",
      "   creating: __MACOSX/stanfordSentimentTreebank/\n",
      "  inflating: __MACOSX/stanfordSentimentTreebank/._datasetSentences.txt  \n",
      "  inflating: stanfordSentimentTreebank/datasetSplit.txt  \n",
      "  inflating: __MACOSX/stanfordSentimentTreebank/._datasetSplit.txt  \n",
      "  inflating: stanfordSentimentTreebank/dictionary.txt  \n",
      "  inflating: __MACOSX/stanfordSentimentTreebank/._dictionary.txt  \n",
      "  inflating: stanfordSentimentTreebank/original_rt_snippets.txt  \n",
      "  inflating: __MACOSX/stanfordSentimentTreebank/._original_rt_snippets.txt  \n",
      "  inflating: stanfordSentimentTreebank/README.txt  \n",
      "  inflating: __MACOSX/stanfordSentimentTreebank/._README.txt  \n",
      "  inflating: stanfordSentimentTreebank/sentiment_labels.txt  \n",
      "  inflating: __MACOSX/stanfordSentimentTreebank/._sentiment_labels.txt  \n",
      "  inflating: stanfordSentimentTreebank/SOStr.txt  \n",
      "  inflating: stanfordSentimentTreebank/STree.txt  \n"
     ]
    }
   ],
   "source": [
    "!sh download_data.sh"
   ]
  },
  {
   "cell_type": "code",
   "execution_count": 2,
   "metadata": {
    "cellId": "5ubset5970niikgvfwgfrl"
   },
   "outputs": [],
   "source": [
    "import torch\n",
    "import torch.nn as nn\n",
    "import torch.optim as optim\n",
    "from torch.utils.data import Dataset\n",
    "\n",
    "from torchvision import transforms\n",
    "\n",
    "import numpy as np\n",
    "import matplotlib.pyplot as plt\n",
    "\n",
    "# We'll use Principal Component Analysis (PCA) to visualize word vectors,\n",
    "# so make sure you install dependencies from requirements.txt!\n",
    "from sklearn.decomposition import PCA \n",
    "\n",
    "%matplotlib inline"
   ]
  },
  {
   "cell_type": "code",
   "execution_count": 3,
   "metadata": {
    "cellId": "hidfsvpv41kuu4y5bnv7x"
   },
   "outputs": [
    {
     "name": "stdout",
     "output_type": "stream",
     "text": [
      "Num tokens: 19538\n",
      ", ['concoction', 'intended', 'under-12']\n",
      "freundlich ['buying', 'truths', 'safe']\n",
      "theatrical ['question', 'presented', 'release']\n",
      "barely ['ellis', 'rules']\n",
      "sailors ['is', 'appreciated']\n"
     ]
    }
   ],
   "source": [
    "import os\n",
    "import numpy as np\n",
    "\n",
    "class StanfordTreeBank:\n",
    "    '''\n",
    "    Wrapper for accessing Stanford Tree Bank Dataset\n",
    "    https://nlp.stanford.edu/sentiment/treebank.html\n",
    "    \n",
    "    Parses dataset, gives each token and index and provides lookups\n",
    "    from string token to index and back\n",
    "    \n",
    "    Allows to generate random context with sampling strategy described in\n",
    "    word2vec paper:\n",
    "    https://papers.nips.cc/paper/5021-distributed-representations-of-words-and-phrases-and-their-compositionality.pdf\n",
    "    '''\n",
    "    def __init__(self):\n",
    "        self.index_by_token = {}\n",
    "        self.token_by_index = []\n",
    "\n",
    "        self.sentences = []\n",
    "\n",
    "        self.token_freq = {}\n",
    "        \n",
    "        self.token_reject_by_index = None\n",
    "\n",
    "    def load_dataset(self, folder):\n",
    "        filename = os.path.join(folder, \"datasetSentences.txt\")\n",
    "\n",
    "        with open(filename, \"r\", encoding=\"latin1\") as f:\n",
    "            l = f.readline() # skip the first line\n",
    "            \n",
    "            for l in f:\n",
    "                splitted_line = l.strip().split()\n",
    "                words = [w.lower() for w in splitted_line[1:]] # First one is a number\n",
    "                    \n",
    "                self.sentences.append(words)\n",
    "                for word in words:\n",
    "                    if word in self.token_freq:\n",
    "                        self.token_freq[word] +=1 \n",
    "                    else:\n",
    "                        index = len(self.token_by_index)\n",
    "                        self.token_freq[word] = 1\n",
    "                        self.index_by_token[word] = index\n",
    "                        self.token_by_index.append(word)\n",
    "        self.compute_token_prob()\n",
    "                        \n",
    "    def compute_token_prob(self):\n",
    "        words_count = np.array([self.token_freq[token] for token in self.token_by_index])\n",
    "        words_freq = words_count / np.sum(words_count)\n",
    "        \n",
    "        # Following sampling strategy from word2vec paper:\n",
    "        # https://papers.nips.cc/paper/5021-distributed-representations-of-words-and-phrases-and-their-compositionality.pdf\n",
    "        self.token_reject_by_index = 1 - np.sqrt(1e-5/words_freq)\n",
    "    \n",
    "    def check_reject(self, word):\n",
    "        return np.random.rand() > self.token_reject_by_index[self.index_by_token[word]]\n",
    "        \n",
    "    def get_random_context(self, context_length=5):\n",
    "        \"\"\"\n",
    "        Returns tuple of center word and list of context words\n",
    "        \"\"\"\n",
    "        sentence_sampled = []\n",
    "        while len(sentence_sampled) <= 2:\n",
    "            sentence_index = np.random.randint(len(self.sentences)) \n",
    "            sentence = self.sentences[sentence_index]\n",
    "            sentence_sampled = [word for word in sentence if self.check_reject(word)]\n",
    "    \n",
    "        center_word_index = np.random.randint(len(sentence_sampled))\n",
    "        \n",
    "        words_before = sentence_sampled[max(center_word_index - context_length//2,0):center_word_index]\n",
    "        words_after = sentence_sampled[center_word_index+1: center_word_index+1+context_length//2]\n",
    "        \n",
    "        return sentence_sampled[center_word_index], words_before+words_after\n",
    "    \n",
    "    def num_tokens(self):\n",
    "        return len(self.token_by_index)\n",
    "        \n",
    "data = StanfordTreeBank()\n",
    "data.load_dataset(\"./stanfordSentimentTreebank/\")\n",
    "\n",
    "print(\"Num tokens:\", data.num_tokens())\n",
    "for i in range(5):\n",
    "    center_word, other_words = data.get_random_context(5)\n",
    "    print(center_word, other_words)"
   ]
  },
  {
   "cell_type": "markdown",
   "metadata": {
    "cellId": "j4wvuawh2eosb1ch59wpqk",
    "execution_id": "41f6fb09-f7c8-48a6-9d33-e5cf9775711e"
   },
   "source": [
    "y Gradients# Имплеменируем PyTorch-style Dataset для Word2Vec\n",
    "\n",
    "Этот Dataset должен сгенерировать много случайных контекстов и превратить их в сэмплы для тренировки.\n",
    "\n",
    "Напоминаем, что word2vec модель получает на вход One-hot вектор слова и тренирует простую сеть для предсказания на его основе соседних слов.\n",
    "Из набора слово-контекст создается N сэмплов (где N - количество слов в контексте):\n",
    "\n",
    "Например:\n",
    "\n",
    "Слово: `orders` и контекст: `['love', 'nicest', 'to', '50-year']` создадут 4 сэмпла:\n",
    "- input: `orders`, target: `love`\n",
    "- input: `orders`, target: `nicest`\n",
    "- input: `orders`, target: `to`\n",
    "- input: `orders`, target: `50-year`\n",
    "\n",
    "Все слова на входе и на выходе закодированы через one-hot encoding, с размером вектора равным количеству токенов."
   ]
  },
  {
   "cell_type": "code",
   "execution_count": 4,
   "metadata": {
    "cellId": "cbmj2tntcs6ihuawi00nv9"
   },
   "outputs": [
    {
     "name": "stdout",
     "output_type": "stream",
     "text": [
      "Sample - input: tensor([0., 0., 0.,  ..., 0., 0., 0.]), target: 11953\n"
     ]
    }
   ],
   "source": [
    "class Word2VecPlain(Dataset):\n",
    "    '''\n",
    "    PyTorch Dataset for plain Word2Vec.\n",
    "    Accepts StanfordTreebank as data and is able to generate dataset based on\n",
    "    a number of random contexts\n",
    "    '''\n",
    "    def __init__(self, data, num_contexts=30_000):\n",
    "        '''\n",
    "        Initializes Word2VecPlain, but doesn't generate the samples yet\n",
    "        (for that, use generate_dataset)\n",
    "        Arguments:\n",
    "        data - StanfordTreebank instace\n",
    "        num_contexts - number of random contexts to use when generating a dataset\n",
    "        '''\n",
    "        # TODO: Implement what you need for other methods!\n",
    "        self.data = data\n",
    "        self.num_contexts = num_contexts\n",
    "        self.num_tokens = data.num_tokens()\n",
    "        self.index_by_token = data.index_by_token\n",
    "        self.generated_samples = []\n",
    "        \n",
    "    \n",
    "    def generate_dataset(self):\n",
    "        '''\n",
    "        Generates dataset samples from random contexts\n",
    "        Note: there will be more samples than contexts because every context\n",
    "        can generate more than one sample\n",
    "        '''\n",
    "        # TODO: Implement generating the dataset\n",
    "        # You should sample num_contexts contexts from the data and turn them into samples\n",
    "        # Note you will have several samples from one context\n",
    "        for context in range(self.num_contexts):\n",
    "            center_word, nearest_words = self.data.get_random_context(3)\n",
    "            center_word_index = self.index_by_token[center_word]\n",
    "            input_vector = torch.zeros(self.num_tokens)\n",
    "            input_vector[center_word_index] = 1\n",
    "            \n",
    "            for word in (nearest_words):\n",
    "                sample = []\n",
    "                index_word = self.index_by_token[word]\n",
    "                sample.append(input_vector)\n",
    "                sample.append(index_word)\n",
    "                self.generated_samples.append(sample)\n",
    "        \n",
    "        \n",
    "    def __len__(self):\n",
    "        '''\n",
    "        Returns total number of samples\n",
    "        '''\n",
    "        return len(self.generated_samples)\n",
    "    \n",
    "    def __getitem__(self, index):\n",
    "        '''\n",
    "        Returns i-th sample\n",
    "        \n",
    "        Return values:\n",
    "        input_vector - torch.Tensor with one-hot representation of the input vector\n",
    "        output_index - index of the target word (not torch.Tensor!)\n",
    "        '''\n",
    "        \n",
    "        sample = self.generated_samples[index]\n",
    "        input_vector, output_index = sample[0], sample[1]\n",
    "        \n",
    "        return input_vector, output_index\n",
    "            \n",
    "\n",
    "dataset = Word2VecPlain(data, 10)\n",
    "dataset.generate_dataset()\n",
    "input_vector, target = dataset[3]\n",
    "print(\"Sample - input: %s, target: %s\" % (input_vector, int(target))) # target should be able to convert to int\n",
    "assert isinstance(input_vector, torch.Tensor)\n",
    "assert torch.sum(input_vector) == 1.0\n",
    "assert input_vector.shape[0] == data.num_tokens()"
   ]
  },
  {
   "cell_type": "markdown",
   "metadata": {
    "cellId": "12rlmqmfzdxfcyz8kc9dzef",
    "execution_id": "2e1ec84e-d93a-4c28-b710-cb3da5ad65c6"
   },
   "source": [
    "# Создаем модель и тренируем ее"
   ]
  },
  {
   "cell_type": "code",
   "execution_count": 5,
   "metadata": {
    "cellId": "87jf9wjd09elymj2qcmgfs"
   },
   "outputs": [
    {
     "data": {
      "text/plain": [
       "Sequential(\n",
       "  (0): Linear(in_features=19538, out_features=10, bias=False)\n",
       "  (1): Linear(in_features=10, out_features=19538, bias=False)\n",
       ")"
      ]
     },
     "execution_count": 5,
     "metadata": {},
     "output_type": "execute_result"
    }
   ],
   "source": [
    "# Create the usual PyTorch structures\n",
    "dataset = Word2VecPlain(data, 30_000)\n",
    "dataset.generate_dataset()\n",
    "\n",
    "# We'll be training very small word vectors!\n",
    "wordvec_dim = 10\n",
    "\n",
    "# We can use a standard sequential model for this\n",
    "nn_model = nn.Sequential(\n",
    "            nn.Linear(dataset.num_tokens, wordvec_dim, bias=False),\n",
    "            nn.Linear(wordvec_dim, dataset.num_tokens, bias=False), \n",
    "         )\n",
    "nn_model.type(torch.FloatTensor)"
   ]
  },
  {
   "cell_type": "code",
   "execution_count": 6,
   "metadata": {
    "cellId": "5pgdhlfuc084vu2s5exhkp"
   },
   "outputs": [
    {
     "data": {
      "text/plain": [
       "torch.Size([19538, 10])"
      ]
     },
     "execution_count": 6,
     "metadata": {},
     "output_type": "execute_result"
    }
   ],
   "source": [
    "nn_model[-1].weight.shape"
   ]
  },
  {
   "cell_type": "code",
   "execution_count": 7,
   "metadata": {
    "cellId": "q502ppmwqua0px5wyeslyoh"
   },
   "outputs": [],
   "source": [
    "def extract_word_vectors(nn_model):\n",
    "    '''\n",
    "    Extracts word vectors from the model\n",
    "    \n",
    "    Returns:\n",
    "    input_vectors: torch.Tensor with dimensions (num_tokens, num_dimensions)\n",
    "    output_vectors: torch.Tensor with dimensions (num_tokens, num_dimensions)\n",
    "    '''\n",
    "    # TODO: Implement extracting word vectors from param weights\n",
    "    # return tuple of input vectors and output vectos \n",
    "    # Hint: you can access weights as Tensors through nn.Linear class attributes\n",
    "    \n",
    "    input_vectors = nn_model[0].weight.transpose(0,1)\n",
    "    output_vectors = nn_model[-1].weight\n",
    "    \n",
    "    return input_vectors, output_vectors\n",
    "\n",
    "untrained_input_vectors, untrained_output_vectors = extract_word_vectors(nn_model)\n",
    "assert untrained_input_vectors.shape == (data.num_tokens(), wordvec_dim)\n",
    "assert untrained_output_vectors.shape == (data.num_tokens(), wordvec_dim)"
   ]
  },
  {
   "cell_type": "code",
   "execution_count": 8,
   "metadata": {
    "cellId": "jkf5ikckwetu9lyg1zqy"
   },
   "outputs": [],
   "source": [
    "def train_model(model, dataset, train_loader, optimizer, scheduler, num_epochs):\n",
    "    '''\n",
    "    Trains plain word2vec using cross-entropy loss and regenerating dataset every epoch\n",
    "    \n",
    "    Returns:\n",
    "    loss_history, train_history\n",
    "    '''\n",
    "    \n",
    "    loss = nn.CrossEntropyLoss().type(torch.FloatTensor)\n",
    "    \n",
    "    loss_history = []\n",
    "    train_history = []\n",
    "    for epoch in range(num_epochs):\n",
    "        model.train() # Enter train mode\n",
    "        \n",
    "        loss_accum = 0\n",
    "        correct_samples = 0\n",
    "        total_samples = 0\n",
    "        \n",
    "        dataset.generate_dataset() # Regenerate dataset every epoch\n",
    "        \n",
    "        for i_step, (x, y) in enumerate(train_loader):\n",
    "            prediction = model(x)    \n",
    "            loss_value = loss(prediction, y)\n",
    "            optimizer.zero_grad()\n",
    "            loss_value.backward()\n",
    "            optimizer.step()\n",
    "            \n",
    "            _, indices = torch.max(prediction, 1)\n",
    "            correct_samples += torch.sum(indices == y)\n",
    "            total_samples += y.shape[0]\n",
    "            loss_accum += loss_value\n",
    "            \n",
    "            ave_loss = loss_accum / (i_step + 1)\n",
    "            train_accuracy = float(correct_samples) / total_samples\n",
    "        \n",
    "        loss_history.append(float(ave_loss))\n",
    "        train_history.append(train_accuracy)\n",
    "        if scheduler:\n",
    "            scheduler.step()\n",
    "        print(\"Epoch %i, Average loss: %f, Train accuracy: %f\" % (epoch, ave_loss, train_accuracy))\n",
    "        \n",
    "    return loss_history, train_history"
   ]
  },
  {
   "cell_type": "markdown",
   "metadata": {
    "cellId": "g9i8aaypp6rb357tniw2rd",
    "execution_id": "7f16c5fb-0dd5-4736-b779-c84f71347150"
   },
   "source": [
    "# Ну и наконец тренировка!\n",
    "\n",
    "Добейтесь значения ошибки меньше **8.0**."
   ]
  },
  {
   "cell_type": "code",
   "execution_count": 10,
   "metadata": {
    "cellId": "y4m19ca119en5zla8gedk"
   },
   "outputs": [
    {
     "name": "stdout",
     "output_type": "stream",
     "text": [
      "Epoch 0, Average loss: 8.714831, Train accuracy: 0.019900\n",
      "Epoch 1, Average loss: 8.392457, Train accuracy: 0.027911\n",
      "Epoch 2, Average loss: 8.059837, Train accuracy: 0.042126\n",
      "Epoch 3, Average loss: 8.010991, Train accuracy: 0.042001\n",
      "Epoch 4, Average loss: 7.883537, Train accuracy: 0.050275\n",
      "Epoch 5, Average loss: 7.896322, Train accuracy: 0.048242\n",
      "Epoch 6, Average loss: 7.858804, Train accuracy: 0.052365\n",
      "Epoch 7, Average loss: 7.890916, Train accuracy: 0.050003\n"
     ]
    }
   ],
   "source": [
    "optimizer = optim.Adam(nn_model.parameters(), lr=1e-2, weight_decay=0)\n",
    "scheduler = optim.lr_scheduler.StepLR(optimizer, step_size=2, gamma=0.5)\n",
    "train_loader = torch.utils.data.DataLoader(dataset, batch_size=32)\n",
    "\n",
    "loss_history, train_history = train_model(nn_model, dataset, train_loader, optimizer, scheduler, 8)"
   ]
  },
  {
   "cell_type": "code",
   "execution_count": 11,
   "metadata": {
    "cellId": "nkenq9mh66guz45yy8mx1s",
    "execution_id": "447cb0ba-1ea1-4c29-b0d3-f64aeb945e66"
   },
   "outputs": [
    {
     "data": {
      "text/plain": [
       "[<matplotlib.lines.Line2D at 0x7fbc4dd244c0>]"
      ]
     },
     "execution_count": 11,
     "metadata": {},
     "output_type": "execute_result"
    },
    {
     "data": {
      "image/png": "[encoded data removed]",
      "text/plain": [
       "<Figure size 640x480 with 2 Axes>"
      ]
     },
     "metadata": {},
     "output_type": "display_data"
    }
   ],
   "source": [
    "# Visualize training graphs\n",
    "plt.subplot(211)\n",
    "plt.plot(train_history)\n",
    "plt.subplot(212)\n",
    "plt.plot(loss_history)"
   ]
  },
  {
   "cell_type": "code",
   "execution_count": null,
   "metadata": {
    "cellId": "r8xoa9ndpldzerxn625uq"
   },
   "outputs": [],
   "source": []
  },
  {
   "cell_type": "code",
   "execution_count": null,
   "metadata": {
    "cellId": "tppqnbk595sq0ej89u075"
   },
   "outputs": [],
   "source": []
  }
 ],
 "metadata": {
  "kernelspec": {
   "display_name": "Python 3 (ipykernel)",
   "language": "python",
   "name": "python3"
  },
  "language_info": {
   "codemirror_mode": {
    "name": "ipython",
    "version": 3
   },
   "file_extension": ".py",
   "mimetype": "text/x-python",
   "name": "python",
   "nbconvert_exporter": "python",
   "pygments_lexer": "ipython3",
   "version": "3.9.2"
  },
  "notebookId": "5676e414-b9be-4529-9bfe-9dd95f36b0ee",
  "notebookPath": "dlcourse_ai-master/assignments/assignment5/Word2Vec.ipynb"
 },
 "nbformat": 4,
 "nbformat_minor": 4
}
