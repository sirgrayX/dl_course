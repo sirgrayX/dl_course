{
 "cells": [
  {
   "cell_type": "markdown",
   "metadata": {
    "cellId": "t3nnk8r0gii00k3m11wb4x8b",
    "execution_id": "bd9deff2-2e55-4bee-8a9c-cf135fc15e9d"
   },
   "source": [
    "# Задание 2.1 - Нейронные сети\n",
    "\n",
    "В этом задании вы реализуете и натренируете настоящую нейроную сеть своими руками!\n",
    "\n",
    "В некотором смысле это будет расширением прошлого задания - нам нужно просто составить несколько линейных классификаторов вместе!\n",
    "\n",
    "<img src=\"https://i.redd.it/n9fgba8b0qr01.png\" alt=\"Stack_more_layers\" width=\"400px\"/>"
   ]
  },
  {
   "cell_type": "code",
   "execution_count": 1,
   "metadata": {
    "cellId": "awqqzicd6ga80bw5hli1qt"
   },
   "outputs": [],
   "source": [
    "import numpy as np\n",
    "import matplotlib.pyplot as plt\n",
    "\n",
    "%matplotlib inline\n",
    "\n",
    "%load_ext autoreload\n",
    "%autoreload 2"
   ]
  },
  {
   "cell_type": "code",
   "execution_count": 2,
   "metadata": {
    "cellId": "sb643h2cnp0f8n9lh4uq79"
   },
   "outputs": [],
   "source": [
    "from dataset import load_svhn, random_split_train_val\n",
    "from gradient_check import check_layer_gradient, check_layer_param_gradient, check_model_gradient\n",
    "from layers import FullyConnectedLayer, ReLULayer\n",
    "from model import TwoLayerNet\n",
    "from trainer import Trainer, Dataset\n",
    "from optim import SGD, MomentumSGD\n",
    "from metrics import multiclass_accuracy"
   ]
  },
  {
   "cell_type": "markdown",
   "metadata": {
    "cellId": "c1pzpijuvs72meamwcqwrl",
    "execution_id": "135128c2-d4b4-4a9e-a793-167c49cff665"
   },
   "source": [
    "# Загружаем данные\n",
    "\n",
    "И разделяем их на training и validation."
   ]
  },
  {
   "cell_type": "code",
   "execution_count": 5,
   "metadata": {
    "cellId": "liul70h65rb4uwmiwmlc4p"
   },
   "outputs": [
    {
     "name": "stdout",
     "output_type": "stream",
     "text": [
      "--2023-02-16 15:54:09--  http://ufldl.stanford.edu/housenumbers/train_32x32.mat\n",
      "Распознаётся ufldl.stanford.edu (ufldl.stanford.edu)… 171.64.68.10\n",
      "Подключение к ufldl.stanford.edu (ufldl.stanford.edu)|171.64.68.10|:80... соединение установлено.\n",
      "HTTP-запрос отправлен. Ожидание ответа… 200 OK\n",
      "Длина: 182040794 (174M) [text/plain]\n",
      "Сохранение в: «train_32x32.mat»\n",
      "\n",
      "train_32x32.mat     100%[===================>] 173,61M   421KB/s    за 5m 20s  \n",
      "\n",
      "2023-02-16 15:59:29 (556 KB/s) - «train_32x32.mat» сохранён [182040794/182040794]\n",
      "\n",
      "--2023-02-16 15:59:29--  http://ufldl.stanford.edu/housenumbers/test_32x32.mat\n",
      "Повторное использование соединения с ufldl.stanford.edu:80.\n",
      "HTTP-запрос отправлен. Ожидание ответа… 200 OK\n",
      "Длина: 64275384 (61M) [text/plain]\n",
      "Сохранение в: «test_32x32.mat»\n",
      "\n",
      "test_32x32.mat      100%[===================>]  61,30M  1,20MB/s    за 97s     \n",
      "\n",
      "2023-02-16 16:01:06 (649 KB/s) - «test_32x32.mat» сохранён [64275384/64275384]\n",
      "\n",
      "ЗАВЕРШЕНО --2023-02-16 16:01:06--\n",
      "Общее время: 6m 57s\n",
      "Загружено: 2 файлов, 235M за 6m 57s (577 KB/s)\n"
     ]
    }
   ],
   "source": [
    "!sh download_data.sh"
   ]
  },
  {
   "cell_type": "code",
   "execution_count": 6,
   "metadata": {
    "cellId": "0aww08qsdxc4mcs0ofgbtt"
   },
   "outputs": [
    {
     "name": "stderr",
     "output_type": "stream",
     "text": [
      "/tmp/ipykernel_203360/2810386256.py:2: DeprecationWarning: `np.float` is a deprecated alias for the builtin `float`. To silence this warning, use `float` by itself. Doing this will not modify any behavior and is safe. If you specifically wanted the numpy scalar type, use `np.float64` here.\n",
      "Deprecated in NumPy 1.20; for more details and guidance: https://numpy.org/devdocs/release/1.20.0-notes.html#deprecations\n",
      "  train_flat = train_X.reshape(train_X.shape[0], -1).astype(np.float) / 255.0\n",
      "/tmp/ipykernel_203360/2810386256.py:3: DeprecationWarning: `np.float` is a deprecated alias for the builtin `float`. To silence this warning, use `float` by itself. Doing this will not modify any behavior and is safe. If you specifically wanted the numpy scalar type, use `np.float64` here.\n",
      "Deprecated in NumPy 1.20; for more details and guidance: https://numpy.org/devdocs/release/1.20.0-notes.html#deprecations\n",
      "  test_flat = test_X.reshape(test_X.shape[0], -1).astype(np.float) / 255.0\n"
     ]
    }
   ],
   "source": [
    "def prepare_for_neural_network(train_X, test_X):\n",
    "    train_flat = train_X.reshape(train_X.shape[0], -1).astype(np.float) / 255.0\n",
    "    test_flat = test_X.reshape(test_X.shape[0], -1).astype(np.float) / 255.0\n",
    "    \n",
    "    # Subtract mean\n",
    "    mean_image = np.mean(train_flat, axis = 0)\n",
    "    train_flat -= mean_image\n",
    "    test_flat -= mean_image\n",
    "    \n",
    "    return train_flat, test_flat\n",
    "    \n",
    "train_X, train_y, test_X, test_y = load_svhn(\"data\", max_train=10000, max_test=1000)    \n",
    "train_X, test_X = prepare_for_neural_network(train_X, test_X)\n",
    "# Split train into train and val\n",
    "train_X, train_y, val_X, val_y = random_split_train_val(train_X, train_y, num_val = 1000)"
   ]
  },
  {
   "cell_type": "markdown",
   "metadata": {
    "cellId": "kvhd9pws4a8bkvv1in4kmu",
    "execution_id": "953bbdea-57c1-427d-a15b-97b3bf619601"
   },
   "source": [
    "# Как всегда, начинаем с кирпичиков\n",
    "\n",
    "Мы будем реализовывать необходимые нам слои по очереди. Каждый слой должен реализовать:\n",
    "- прямой проход (forward pass), который генерирует выход слоя по входу и запоминает необходимые данные\n",
    "- обратный проход (backward pass), который получает градиент по выходу слоя и вычисляет градиент по входу и по параметрам\n",
    "\n",
    "Начнем с ReLU, у которого параметров нет."
   ]
  },
  {
   "cell_type": "code",
   "execution_count": 7,
   "metadata": {
    "cellId": "i5blu2sljo1bac3a8glvei"
   },
   "outputs": [
    {
     "name": "stdout",
     "output_type": "stream",
     "text": [
      "Gradient check passed!\n"
     ]
    }
   ],
   "source": [
    "# TODO: Implement ReLULayer layer in layers.py\n",
    "# Note: you'll need to copy implementation of the gradient_check function from the previous assignment\n",
    "\n",
    "X = np.array([[1,-2,3],\n",
    "              [-1, 2, 0.1]\n",
    "              ])\n",
    "\n",
    "assert check_layer_gradient(ReLULayer(), X)"
   ]
  },
  {
   "cell_type": "markdown",
   "metadata": {
    "cellId": "ena8x7d1sslemuqxapy3nf",
    "execution_id": "ffd5c7c2-ca89-4271-b578-f9eb612db5cf"
   },
   "source": [
    "А теперь реализуем полносвязный слой (fully connected layer), у которого будет два массива параметров: W (weights) и B (bias).\n",
    "\n",
    "Все параметры наши слои будут использовать для параметров специальный класс `Param`, в котором будут храниться значения параметров и градиенты этих параметров, вычисляемые во время обратного прохода.\n",
    "\n",
    "Это даст возможность аккумулировать (суммировать) градиенты из разных частей функции потерь, например, из cross-entropy loss и regularization loss."
   ]
  },
  {
   "cell_type": "code",
   "execution_count": 8,
   "metadata": {
    "cellId": "0ixmh8z9s90k6pi39iiq2x7"
   },
   "outputs": [
    {
     "name": "stdout",
     "output_type": "stream",
     "text": [
      "Gradient check passed!\n",
      "Gradient check passed!\n",
      "Gradient check passed!\n"
     ]
    }
   ],
   "source": [
    "# TODO: Implement FullyConnected layer forward and backward methods\n",
    "assert check_layer_gradient(FullyConnectedLayer(3, 4), X)\n",
    "# TODO: Implement storing gradients for W and B\n",
    "assert check_layer_param_gradient(FullyConnectedLayer(3, 4), X, 'W')\n",
    "assert check_layer_param_gradient(FullyConnectedLayer(3, 4), X, 'B')"
   ]
  },
  {
   "cell_type": "markdown",
   "metadata": {
    "cellId": "90bmctrv3om924rjydj2ge",
    "execution_id": "571ab89d-71b2-4da9-b1ef-c2dd4c38ead4"
   },
   "source": [
    "## Создаем нейронную сеть\n",
    "\n",
    "Теперь мы реализуем простейшую нейронную сеть с двумя полносвязным слоями и нелинейностью ReLU. Реализуйте функцию `compute_loss_and_gradients`, она должна запустить прямой и обратный проход через оба слоя для вычисления градиентов.\n",
    "\n",
    "Не забудьте реализовать очистку градиентов в начале функции."
   ]
  },
  {
   "cell_type": "code",
   "execution_count": 9,
   "metadata": {
    "cellId": "kxmxj17fp44d1zxje4kiu"
   },
   "outputs": [
    {
     "name": "stdout",
     "output_type": "stream",
     "text": [
      "Checking gradient for 0_W\n",
      "Gradient check passed!\n",
      "Checking gradient for 0_B\n",
      "Gradient check passed!\n",
      "Checking gradient for 2_W\n",
      "Gradient check passed!\n",
      "Checking gradient for 2_B\n",
      "Gradient check passed!\n"
     ]
    },
    {
     "data": {
      "text/plain": [
       "True"
      ]
     },
     "execution_count": 9,
     "metadata": {},
     "output_type": "execute_result"
    }
   ],
   "source": [
    "# TODO: In model.py, implement compute_loss_and_gradients function\n",
    "model = TwoLayerNet(n_input = train_X.shape[1], n_output = 10, hidden_layer_size = 3, reg = 0)\n",
    "loss = model.compute_loss_and_gradients(train_X[:2], train_y[:2])\n",
    "\n",
    "# TODO Now implement backward pass and aggregate all of the params\n",
    "check_model_gradient(model, train_X[:2], train_y[:2])"
   ]
  },
  {
   "cell_type": "markdown",
   "metadata": {
    "cellId": "fc2by60yq5eflhpyzdncv",
    "execution_id": "e27b96f8-5d6a-4cd0-945d-ca510d28aa6c"
   },
   "source": [
    "Теперь добавьте к модели регуляризацию - она должна прибавляться к loss и делать свой вклад в градиенты."
   ]
  },
  {
   "cell_type": "code",
   "execution_count": 10,
   "metadata": {
    "cellId": "m3dwk9g1o7o7xsm1qhpl"
   },
   "outputs": [
    {
     "name": "stdout",
     "output_type": "stream",
     "text": [
      "Checking gradient for 0_W\n",
      "Gradient check passed!\n",
      "Checking gradient for 0_B\n",
      "Gradient check passed!\n",
      "Checking gradient for 2_W\n",
      "Gradient check passed!\n",
      "Checking gradient for 2_B\n",
      "Gradient check passed!\n"
     ]
    },
    {
     "data": {
      "text/plain": [
       "True"
      ]
     },
     "execution_count": 10,
     "metadata": {},
     "output_type": "execute_result"
    }
   ],
   "source": [
    "# TODO Now implement l2 regularization in the forward and backward pass\n",
    "model_with_reg = TwoLayerNet(n_input = train_X.shape[1], n_output = 10, hidden_layer_size = 3, reg = 1e1)\n",
    "loss_with_reg = model_with_reg.compute_loss_and_gradients(train_X[:2], train_y[:2])\n",
    "assert loss_with_reg > loss and not np.isclose(loss_with_reg, loss), \\\n",
    "    \"Loss with regularization (%2.4f) should be higher than without it (%2.4f)!\" % (loss, loss_with_reg)\n",
    "\n",
    "check_model_gradient(model_with_reg, train_X[:2], train_y[:2])"
   ]
  },
  {
   "cell_type": "markdown",
   "metadata": {
    "cellId": "nfefxxrtrfhi8t3bpiz3k",
    "execution_id": "2a4e5782-385c-401d-9847-496b498ec178"
   },
   "source": [
    "Также реализуем функцию предсказания (вычисления значения) модели на новых данных.\n",
    "\n",
    "Какое значение точности мы ожидаем увидеть до начала тренировки?"
   ]
  },
  {
   "cell_type": "code",
   "execution_count": 11,
   "metadata": {
    "cellId": "5z63j2pgw7i07fnef5ojlv"
   },
   "outputs": [
    {
     "data": {
      "text/plain": [
       "0.1"
      ]
     },
     "execution_count": 11,
     "metadata": {},
     "output_type": "execute_result"
    }
   ],
   "source": [
    "# Finally, implement predict function!\n",
    "\n",
    "# TODO: Implement predict function\n",
    "# What would be the value we expect?\n",
    "multiclass_accuracy(model_with_reg.predict(train_X[:30]), train_y[:30]) "
   ]
  },
  {
   "cell_type": "markdown",
   "metadata": {
    "cellId": "i9kvc38zlslf6097lh9je",
    "execution_id": "4ff6446d-6bfa-4c24-8509-7c46db06acbd"
   },
   "source": [
    "# Допишем код для процесса тренировки\n",
    "\n",
    "Если все реализовано корректно, значение функции ошибки должно уменьшаться с каждой эпохой, пусть и медленно. Не беспокойтесь пока про validation accuracy."
   ]
  },
  {
   "cell_type": "code",
   "execution_count": 12,
   "metadata": {
    "cellId": "v8hpgh64dxgozsvuz1z8i"
   },
   "outputs": [
    {
     "name": "stdout",
     "output_type": "stream",
     "text": [
      "Loss: 43.578719, Train accuracy: 0.196667, val accuracy: 0.206000\n",
      "Loss: 42.404436, Train accuracy: 0.196667, val accuracy: 0.206000\n",
      "Loss: 41.492389, Train accuracy: 0.196667, val accuracy: 0.206000\n",
      "Loss: 44.357768, Train accuracy: 0.196667, val accuracy: 0.206000\n",
      "Loss: 41.036157, Train accuracy: 0.237111, val accuracy: 0.242000\n",
      "Loss: 37.772634, Train accuracy: 0.269667, val accuracy: 0.266000\n",
      "Loss: 41.495101, Train accuracy: 0.307000, val accuracy: 0.301000\n",
      "Loss: 35.720808, Train accuracy: 0.370556, val accuracy: 0.361000\n",
      "Loss: 36.817415, Train accuracy: 0.408333, val accuracy: 0.408000\n",
      "Loss: 25.662095, Train accuracy: 0.460667, val accuracy: 0.461000\n",
      "Loss: 31.806632, Train accuracy: 0.523778, val accuracy: 0.513000\n",
      "Loss: 29.011691, Train accuracy: 0.561111, val accuracy: 0.559000\n",
      "Loss: 28.024413, Train accuracy: 0.583000, val accuracy: 0.568000\n",
      "Loss: 28.993912, Train accuracy: 0.618444, val accuracy: 0.592000\n",
      "Loss: 24.738965, Train accuracy: 0.641222, val accuracy: 0.636000\n",
      "Loss: 20.188571, Train accuracy: 0.651222, val accuracy: 0.638000\n",
      "Loss: 21.476652, Train accuracy: 0.667778, val accuracy: 0.660000\n",
      "Loss: 28.466345, Train accuracy: 0.688556, val accuracy: 0.679000\n",
      "Loss: 25.799143, Train accuracy: 0.700778, val accuracy: 0.678000\n",
      "Loss: 33.792325, Train accuracy: 0.707667, val accuracy: 0.681000\n"
     ]
    }
   ],
   "source": [
    "model = TwoLayerNet(n_input = train_X.shape[1], n_output = 10, hidden_layer_size = 100, reg = 1e-4)\n",
    "dataset = Dataset(train_X, train_y, val_X, val_y)\n",
    "trainer = Trainer(model, dataset, SGD(), learning_rate = 1e-3)\n",
    "\n",
    "\n",
    "# You should expect loss to go down every epoch, even if it's slow\n",
    "loss_history, train_history, val_history = trainer.fit()"
   ]
  },
  {
   "cell_type": "code",
   "execution_count": 13,
   "metadata": {
    "cellId": "fi70qbbqazaq5208wzsl4"
   },
   "outputs": [
    {
     "data": {
      "image/png": "[encoded data removed]",
      "text/plain": [
       "<Figure size 640x480 with 1 Axes>"
      ]
     },
     "metadata": {},
     "output_type": "display_data"
    }
   ],
   "source": [
    "plt.plot(train_history)\n",
    "plt.plot(val_history);"
   ]
  },
  {
   "cell_type": "markdown",
   "metadata": {
    "cellId": "nio031w02fwlmobm7oup",
    "execution_id": "98ae3a35-5b76-4299-a577-6c3bcd5f8817"
   },
   "source": [
    "# Улучшаем процесс тренировки\n",
    "\n",
    "Мы реализуем несколько ключевых оптимизаций, необходимых для тренировки современных нейросетей."
   ]
  },
  {
   "cell_type": "markdown",
   "metadata": {
    "cellId": "6t83qno1u7q6bq3ya3ll",
    "execution_id": "d1c0bc67-c637-41f2-87b5-2f6166531e9e"
   },
   "source": [
    "## Уменьшение скорости обучения (learning rate decay)\n",
    "\n",
    "Одна из необходимых оптимизаций во время тренировки нейронных сетей - постепенное уменьшение скорости обучения по мере тренировки.\n",
    "\n",
    "Один из стандартных методов - уменьшение скорости обучения (learning rate) каждые N эпох на коэффициент d (часто называемый decay). Значения N и d, как всегда, являются гиперпараметрами и должны подбираться на основе эффективности на проверочных данных (validation data). \n",
    "\n",
    "В нашем случае N будет равным 1."
   ]
  },
  {
   "cell_type": "code",
   "execution_count": 14,
   "metadata": {
    "cellId": "i8e7ha6bytr454cek3soli"
   },
   "outputs": [
    {
     "name": "stdout",
     "output_type": "stream",
     "text": [
      "Loss: 44.545313, Train accuracy: 0.196667, val accuracy: 0.206000\n",
      "Loss: 48.250123, Train accuracy: 0.196667, val accuracy: 0.206000\n",
      "Loss: 44.155414, Train accuracy: 0.196667, val accuracy: 0.206000\n",
      "Loss: 44.658869, Train accuracy: 0.196667, val accuracy: 0.206000\n",
      "Loss: 42.903496, Train accuracy: 0.213333, val accuracy: 0.219000\n",
      "Loss: 40.100610, Train accuracy: 0.252111, val accuracy: 0.255000\n",
      "Loss: 39.011602, Train accuracy: 0.277111, val accuracy: 0.273000\n",
      "Loss: 45.163554, Train accuracy: 0.289222, val accuracy: 0.296000\n",
      "Loss: 42.944123, Train accuracy: 0.341778, val accuracy: 0.331000\n",
      "Loss: 40.985989, Train accuracy: 0.384111, val accuracy: 0.375000\n",
      "Loss: 36.471396, Train accuracy: 0.414667, val accuracy: 0.402000\n",
      "Loss: 35.843059, Train accuracy: 0.458333, val accuracy: 0.440000\n",
      "Loss: 47.240086, Train accuracy: 0.490444, val accuracy: 0.464000\n",
      "Loss: 27.847179, Train accuracy: 0.523556, val accuracy: 0.526000\n",
      "Loss: 37.564342, Train accuracy: 0.546556, val accuracy: 0.537000\n",
      "Loss: 33.990771, Train accuracy: 0.574556, val accuracy: 0.575000\n",
      "Loss: 28.899952, Train accuracy: 0.585222, val accuracy: 0.579000\n",
      "Loss: 28.608452, Train accuracy: 0.609222, val accuracy: 0.601000\n",
      "Loss: 27.927939, Train accuracy: 0.619000, val accuracy: 0.583000\n",
      "Loss: 34.574678, Train accuracy: 0.632444, val accuracy: 0.620000\n"
     ]
    }
   ],
   "source": [
    "# TODO Implement learning rate decay inside Trainer.fit method\n",
    "# Decay should happen once per epoch\n",
    "\n",
    "model = TwoLayerNet(n_input = train_X.shape[1], n_output = 10, hidden_layer_size = 100, reg = 1e-1)\n",
    "dataset = Dataset(train_X, train_y, val_X, val_y)\n",
    "trainer = Trainer(model, dataset, SGD(), learning_rate_decay=0.99)\n",
    "\n",
    "initial_learning_rate = trainer.learning_rate\n",
    "loss_history, train_history, val_history = trainer.fit()\n",
    "\n",
    "assert trainer.learning_rate < initial_learning_rate, \"Learning rate should've been reduced\"\n",
    "assert trainer.learning_rate > 0.5*initial_learning_rate, \"Learning rate shouldn'tve been reduced that much!\""
   ]
  },
  {
   "cell_type": "markdown",
   "metadata": {
    "cellId": "alvz6obenzfheee289gf6v",
    "execution_id": "de4390d5-0132-4ede-9b7f-c1f2ce7ebb8f"
   },
   "source": [
    "# Накопление импульса (Momentum SGD)\n",
    "\n",
    "Другой большой класс оптимизаций - использование более эффективных методов градиентного спуска. Мы реализуем один из них - накопление импульса (Momentum SGD).\n",
    "\n",
    "Этот метод хранит скорость движения, использует градиент для ее изменения на каждом шаге, и изменяет веса пропорционально значению скорости.\n",
    "(Физическая аналогия: Вместо скорости градиенты теперь будут задавать ускорение, но будет присутствовать сила трения.)\n",
    "\n",
    "```\n",
    "velocity = momentum * velocity - learning_rate * gradient \n",
    "w = w + velocity\n",
    "```\n",
    "\n",
    "`momentum` здесь коэффициент затухания, который тоже является гиперпараметром (к счастью, для него часто есть хорошее значение по умолчанию, типичный диапазон -- 0.8-0.99).\n",
    "\n",
    "Несколько полезных ссылок, где метод разбирается более подробно:  \n",
    "http://cs231n.github.io/neural-networks-3/#sgd  \n",
    "https://distill.pub/2017/momentum/"
   ]
  },
  {
   "cell_type": "code",
   "execution_count": 15,
   "metadata": {
    "cellId": "zzclt86m8j3zb676rustk"
   },
   "outputs": [
    {
     "name": "stdout",
     "output_type": "stream",
     "text": [
      "Loss: 40.678590, Train accuracy: 0.257556, val accuracy: 0.264000\n",
      "Loss: 33.896634, Train accuracy: 0.469000, val accuracy: 0.460000\n",
      "Loss: 32.891148, Train accuracy: 0.519778, val accuracy: 0.523000\n",
      "Loss: 34.626102, Train accuracy: 0.561667, val accuracy: 0.558000\n",
      "Loss: 35.606701, Train accuracy: 0.577778, val accuracy: 0.548000\n",
      "Loss: 42.601410, Train accuracy: 0.544222, val accuracy: 0.550000\n",
      "Loss: 32.364429, Train accuracy: 0.605556, val accuracy: 0.583000\n",
      "Loss: 26.553279, Train accuracy: 0.565889, val accuracy: 0.555000\n",
      "Loss: 35.171669, Train accuracy: 0.591667, val accuracy: 0.588000\n",
      "Loss: 37.025801, Train accuracy: 0.632000, val accuracy: 0.618000\n",
      "Loss: 30.480841, Train accuracy: 0.626889, val accuracy: 0.605000\n",
      "Loss: 26.134400, Train accuracy: 0.614333, val accuracy: 0.608000\n",
      "Loss: 27.488425, Train accuracy: 0.643889, val accuracy: 0.624000\n",
      "Loss: 27.169720, Train accuracy: 0.623778, val accuracy: 0.631000\n",
      "Loss: 39.473045, Train accuracy: 0.619444, val accuracy: 0.622000\n",
      "Loss: 36.584992, Train accuracy: 0.602556, val accuracy: 0.604000\n",
      "Loss: 37.703623, Train accuracy: 0.633556, val accuracy: 0.617000\n",
      "Loss: 38.502134, Train accuracy: 0.626111, val accuracy: 0.610000\n",
      "Loss: 27.389059, Train accuracy: 0.658889, val accuracy: 0.632000\n",
      "Loss: 29.355866, Train accuracy: 0.615667, val accuracy: 0.594000\n"
     ]
    }
   ],
   "source": [
    "# TODO: Implement MomentumSGD.update function in optim.py\n",
    "\n",
    "model = TwoLayerNet(n_input = train_X.shape[1], n_output = 10, hidden_layer_size = 100, reg = 1e-1)\n",
    "dataset = Dataset(train_X, train_y, val_X, val_y)\n",
    "trainer = Trainer(model, dataset, MomentumSGD(), learning_rate=1e-3, learning_rate_decay=0.99)\n",
    "\n",
    "# You should see even better results than before!\n",
    "loss_history, train_history, val_history = trainer.fit()"
   ]
  },
  {
   "cell_type": "markdown",
   "metadata": {
    "cellId": "dsir2vivzh7ou4x1bs1n7",
    "execution_id": "fd6b1d6e-afe6-4f98-ae2e-7e98a220f351"
   },
   "source": [
    "# Ну что, давайте уже тренировать сеть!"
   ]
  },
  {
   "cell_type": "markdown",
   "metadata": {
    "cellId": "8itkkjxwlp3h6zp32ozozm",
    "execution_id": "385812f8-07a6-4f0e-91d9-aaa4384f8945"
   },
   "source": [
    "## Последний тест - переобучимся (overfit) на маленьком наборе данных\n",
    "\n",
    "Хороший способ проверить, все ли реализовано корректно - переобучить сеть на маленьком наборе данных.  \n",
    "Наша модель обладает достаточной мощностью, чтобы приблизить маленький набор данных идеально, поэтому мы ожидаем, что на нем мы быстро дойдем до 100% точности на тренировочном наборе. \n",
    "\n",
    "Если этого не происходит, то где-то была допущена ошибка!"
   ]
  },
  {
   "cell_type": "code",
   "execution_count": 16,
   "metadata": {
    "cellId": "8eslatl9j6ooj7q7gunclr"
   },
   "outputs": [
    {
     "name": "stdout",
     "output_type": "stream",
     "text": [
      "Loss: 12.061030, Train accuracy: 0.200000, val accuracy: 0.133333\n",
      "Loss: 11.360059, Train accuracy: 0.200000, val accuracy: 0.133333\n",
      "Loss: 10.490006, Train accuracy: 0.333333, val accuracy: 0.066667\n",
      "Loss: 19.791552, Train accuracy: 0.133333, val accuracy: 0.066667\n",
      "Loss: 75.211562, Train accuracy: 0.266667, val accuracy: 0.066667\n",
      "Loss: 37.765050, Train accuracy: 0.266667, val accuracy: 0.133333\n",
      "Loss: 582.247303, Train accuracy: 0.133333, val accuracy: 0.133333\n",
      "Loss: inf, Train accuracy: 0.200000, val accuracy: 0.000000\n",
      "Loss: inf, Train accuracy: 0.000000, val accuracy: 0.066667\n",
      "Loss: inf, Train accuracy: 0.200000, val accuracy: 0.266667\n",
      "Loss: inf, Train accuracy: 0.066667, val accuracy: 0.133333\n",
      "Loss: inf, Train accuracy: 0.000000, val accuracy: 0.133333\n",
      "Loss: inf, Train accuracy: 0.266667, val accuracy: 0.133333\n",
      "Loss: inf, Train accuracy: 0.200000, val accuracy: 0.133333\n",
      "Loss: inf, Train accuracy: 0.333333, val accuracy: 0.200000\n",
      "Loss: inf, Train accuracy: 0.266667, val accuracy: 0.066667\n",
      "Loss: inf, Train accuracy: 0.333333, val accuracy: 0.133333\n",
      "Loss: inf, Train accuracy: 0.200000, val accuracy: 0.200000\n",
      "Loss: inf, Train accuracy: 0.200000, val accuracy: 0.200000\n",
      "Loss: inf, Train accuracy: 0.133333, val accuracy: 0.133333\n",
      "Loss: inf, Train accuracy: 0.266667, val accuracy: 0.200000\n",
      "Loss: inf, Train accuracy: 0.066667, val accuracy: 0.266667\n",
      "Loss: inf, Train accuracy: 0.133333, val accuracy: 0.066667\n",
      "Loss: inf, Train accuracy: 0.066667, val accuracy: 0.133333\n",
      "Loss: inf, Train accuracy: 0.133333, val accuracy: 0.133333\n",
      "Loss: inf, Train accuracy: 0.066667, val accuracy: 0.133333\n",
      "Loss: inf, Train accuracy: 0.133333, val accuracy: 0.066667\n",
      "Loss: inf, Train accuracy: 0.266667, val accuracy: 0.200000\n",
      "Loss: inf, Train accuracy: 0.200000, val accuracy: 0.133333\n",
      "Loss: inf, Train accuracy: 0.066667, val accuracy: 0.133333\n"
     ]
    },
    {
     "name": "stderr",
     "output_type": "stream",
     "text": [
      "/home/agat.local/s.bulganin/Рабочий стол/dl-course/assignment2/layers.py:58: RuntimeWarning: divide by zero encountered in log\n",
      "  ans = -np.sum(np.log(probs[np.arange(len(target_index)), target_index.reshape(1, -1)]))\n"
     ]
    },
    {
     "name": "stdout",
     "output_type": "stream",
     "text": [
      "Loss: inf, Train accuracy: 0.133333, val accuracy: 0.200000\n",
      "Loss: inf, Train accuracy: 0.266667, val accuracy: 0.133333\n",
      "Loss: inf, Train accuracy: 0.200000, val accuracy: 0.066667\n",
      "Loss: inf, Train accuracy: 0.333333, val accuracy: 0.000000\n",
      "Loss: inf, Train accuracy: 0.066667, val accuracy: 0.000000\n",
      "Loss: inf, Train accuracy: 0.066667, val accuracy: 0.066667\n",
      "Loss: inf, Train accuracy: 0.333333, val accuracy: 0.133333\n",
      "Loss: inf, Train accuracy: 0.000000, val accuracy: 0.133333\n",
      "Loss: inf, Train accuracy: 0.266667, val accuracy: 0.133333\n",
      "Loss: inf, Train accuracy: 0.200000, val accuracy: 0.133333\n",
      "Loss: inf, Train accuracy: 0.066667, val accuracy: 0.200000\n",
      "Loss: inf, Train accuracy: 0.200000, val accuracy: 0.133333\n",
      "Loss: inf, Train accuracy: 0.066667, val accuracy: 0.133333\n",
      "Loss: inf, Train accuracy: 0.200000, val accuracy: 0.200000\n",
      "Loss: inf, Train accuracy: 0.200000, val accuracy: 0.066667\n",
      "Loss: inf, Train accuracy: 0.333333, val accuracy: 0.000000\n",
      "Loss: inf, Train accuracy: 0.000000, val accuracy: 0.200000\n",
      "Loss: inf, Train accuracy: 0.266667, val accuracy: 0.133333\n",
      "Loss: inf, Train accuracy: 0.200000, val accuracy: 0.133333\n",
      "Loss: inf, Train accuracy: 0.266667, val accuracy: 0.133333\n",
      "Loss: inf, Train accuracy: 0.133333, val accuracy: 0.200000\n",
      "Loss: inf, Train accuracy: 0.133333, val accuracy: 0.133333\n",
      "Loss: inf, Train accuracy: 0.066667, val accuracy: 0.133333\n",
      "Loss: inf, Train accuracy: 0.200000, val accuracy: 0.200000\n",
      "Loss: inf, Train accuracy: 0.200000, val accuracy: 0.200000\n",
      "Loss: inf, Train accuracy: 0.200000, val accuracy: 0.333333\n",
      "Loss: inf, Train accuracy: 0.133333, val accuracy: 0.133333\n",
      "Loss: inf, Train accuracy: 0.200000, val accuracy: 0.133333\n",
      "Loss: inf, Train accuracy: 0.000000, val accuracy: 0.266667\n",
      "Loss: inf, Train accuracy: 0.333333, val accuracy: 0.000000\n",
      "Loss: inf, Train accuracy: 0.266667, val accuracy: 0.133333\n",
      "Loss: inf, Train accuracy: 0.200000, val accuracy: 0.133333\n",
      "Loss: inf, Train accuracy: 0.200000, val accuracy: 0.000000\n",
      "Loss: inf, Train accuracy: 0.133333, val accuracy: 0.200000\n",
      "Loss: inf, Train accuracy: 0.200000, val accuracy: 0.066667\n",
      "Loss: inf, Train accuracy: 0.066667, val accuracy: 0.266667\n",
      "Loss: inf, Train accuracy: 0.333333, val accuracy: 0.066667\n",
      "Loss: inf, Train accuracy: 0.266667, val accuracy: 0.133333\n",
      "Loss: inf, Train accuracy: 0.200000, val accuracy: 0.066667\n",
      "Loss: inf, Train accuracy: 0.266667, val accuracy: 0.066667\n",
      "Loss: inf, Train accuracy: 0.133333, val accuracy: 0.200000\n",
      "Loss: inf, Train accuracy: 0.200000, val accuracy: 0.133333\n",
      "Loss: inf, Train accuracy: 0.200000, val accuracy: 0.200000\n",
      "Loss: inf, Train accuracy: 0.133333, val accuracy: 0.000000\n",
      "Loss: inf, Train accuracy: 0.333333, val accuracy: 0.066667\n",
      "Loss: inf, Train accuracy: 0.200000, val accuracy: 0.066667\n",
      "Loss: inf, Train accuracy: 0.333333, val accuracy: 0.200000\n",
      "Loss: inf, Train accuracy: 0.133333, val accuracy: 0.200000\n",
      "Loss: inf, Train accuracy: 0.133333, val accuracy: 0.200000\n",
      "Loss: inf, Train accuracy: 0.133333, val accuracy: 0.133333\n",
      "Loss: inf, Train accuracy: 0.200000, val accuracy: 0.066667\n",
      "Loss: inf, Train accuracy: 0.200000, val accuracy: 0.133333\n",
      "Loss: inf, Train accuracy: 0.200000, val accuracy: 0.066667\n",
      "Loss: inf, Train accuracy: 0.200000, val accuracy: 0.000000\n",
      "Loss: inf, Train accuracy: 0.066667, val accuracy: 0.266667\n",
      "Loss: inf, Train accuracy: 0.333333, val accuracy: 0.133333\n",
      "Loss: inf, Train accuracy: 0.333333, val accuracy: 0.133333\n",
      "Loss: inf, Train accuracy: 0.200000, val accuracy: 0.000000\n",
      "Loss: inf, Train accuracy: 0.200000, val accuracy: 0.266667\n",
      "Loss: inf, Train accuracy: 0.066667, val accuracy: 0.000000\n",
      "Loss: inf, Train accuracy: 0.066667, val accuracy: 0.266667\n",
      "Loss: inf, Train accuracy: 0.000000, val accuracy: 0.200000\n",
      "Loss: inf, Train accuracy: 0.066667, val accuracy: 0.133333\n",
      "Loss: inf, Train accuracy: 0.266667, val accuracy: 0.133333\n",
      "Loss: inf, Train accuracy: 0.133333, val accuracy: 0.133333\n",
      "Loss: inf, Train accuracy: 0.000000, val accuracy: 0.200000\n",
      "Loss: inf, Train accuracy: 0.200000, val accuracy: 0.133333\n",
      "Loss: inf, Train accuracy: 0.133333, val accuracy: 0.133333\n",
      "Loss: inf, Train accuracy: 0.200000, val accuracy: 0.066667\n",
      "Loss: inf, Train accuracy: 0.066667, val accuracy: 0.133333\n",
      "Loss: inf, Train accuracy: 0.066667, val accuracy: 0.200000\n",
      "Loss: inf, Train accuracy: 0.200000, val accuracy: 0.066667\n",
      "Loss: inf, Train accuracy: 0.133333, val accuracy: 0.200000\n",
      "Loss: inf, Train accuracy: 0.066667, val accuracy: 0.266667\n",
      "Loss: inf, Train accuracy: 0.266667, val accuracy: 0.133333\n",
      "Loss: inf, Train accuracy: 0.133333, val accuracy: 0.266667\n",
      "Loss: inf, Train accuracy: 0.066667, val accuracy: 0.266667\n",
      "Loss: inf, Train accuracy: 0.200000, val accuracy: 0.133333\n",
      "Loss: inf, Train accuracy: 0.200000, val accuracy: 0.000000\n",
      "Loss: inf, Train accuracy: 0.266667, val accuracy: 0.133333\n",
      "Loss: inf, Train accuracy: 0.200000, val accuracy: 0.133333\n",
      "Loss: inf, Train accuracy: 0.066667, val accuracy: 0.066667\n",
      "Loss: inf, Train accuracy: 0.133333, val accuracy: 0.200000\n",
      "Loss: inf, Train accuracy: 0.000000, val accuracy: 0.066667\n",
      "Loss: inf, Train accuracy: 0.200000, val accuracy: 0.000000\n",
      "Loss: inf, Train accuracy: 0.266667, val accuracy: 0.133333\n",
      "Loss: inf, Train accuracy: 0.266667, val accuracy: 0.133333\n",
      "Loss: inf, Train accuracy: 0.200000, val accuracy: 0.066667\n",
      "Loss: inf, Train accuracy: 0.200000, val accuracy: 0.133333\n",
      "Loss: inf, Train accuracy: 0.266667, val accuracy: 0.066667\n",
      "Loss: inf, Train accuracy: 0.133333, val accuracy: 0.200000\n",
      "Loss: inf, Train accuracy: 0.133333, val accuracy: 0.000000\n",
      "Loss: inf, Train accuracy: 0.200000, val accuracy: 0.133333\n",
      "Loss: inf, Train accuracy: 0.133333, val accuracy: 0.133333\n",
      "Loss: inf, Train accuracy: 0.200000, val accuracy: 0.266667\n",
      "Loss: inf, Train accuracy: 0.266667, val accuracy: 0.266667\n",
      "Loss: inf, Train accuracy: 0.066667, val accuracy: 0.200000\n",
      "Loss: inf, Train accuracy: 0.200000, val accuracy: 0.133333\n",
      "Loss: inf, Train accuracy: 0.333333, val accuracy: 0.133333\n",
      "Loss: inf, Train accuracy: 0.133333, val accuracy: 0.200000\n",
      "Loss: inf, Train accuracy: 0.133333, val accuracy: 0.266667\n",
      "Loss: inf, Train accuracy: 0.133333, val accuracy: 0.133333\n",
      "Loss: inf, Train accuracy: 0.000000, val accuracy: 0.066667\n",
      "Loss: inf, Train accuracy: 0.066667, val accuracy: 0.133333\n",
      "Loss: inf, Train accuracy: 0.400000, val accuracy: 0.066667\n",
      "Loss: inf, Train accuracy: 0.133333, val accuracy: 0.133333\n",
      "Loss: inf, Train accuracy: 0.133333, val accuracy: 0.133333\n",
      "Loss: inf, Train accuracy: 0.200000, val accuracy: 0.133333\n",
      "Loss: inf, Train accuracy: 0.333333, val accuracy: 0.000000\n",
      "Loss: inf, Train accuracy: 0.066667, val accuracy: 0.066667\n",
      "Loss: inf, Train accuracy: 0.200000, val accuracy: 0.133333\n",
      "Loss: inf, Train accuracy: 0.066667, val accuracy: 0.200000\n",
      "Loss: inf, Train accuracy: 0.066667, val accuracy: 0.266667\n",
      "Loss: inf, Train accuracy: 0.133333, val accuracy: 0.000000\n",
      "Loss: inf, Train accuracy: 0.200000, val accuracy: 0.133333\n",
      "Loss: inf, Train accuracy: 0.133333, val accuracy: 0.200000\n",
      "Loss: inf, Train accuracy: 0.133333, val accuracy: 0.066667\n",
      "Loss: inf, Train accuracy: 0.333333, val accuracy: 0.000000\n",
      "Loss: inf, Train accuracy: 0.200000, val accuracy: 0.000000\n",
      "Loss: inf, Train accuracy: 0.133333, val accuracy: 0.066667\n"
     ]
    }
   ],
   "source": [
    "data_size = 15\n",
    "model = TwoLayerNet(n_input = train_X.shape[1], n_output = 10, hidden_layer_size = 100, reg = 1e-1)\n",
    "dataset = Dataset(train_X[:data_size], train_y[:data_size], val_X[:data_size], val_y[:data_size])\n",
    "trainer = Trainer(model, dataset, SGD(), learning_rate=1e-1, num_epochs=150, batch_size=5)\n",
    "\n",
    "# You should expect this to reach 1.0 training accuracy \n",
    "loss_history, train_history, val_history = trainer.fit()"
   ]
  },
  {
   "cell_type": "markdown",
   "metadata": {
    "cellId": "jdsglovaka6p7slkondm8",
    "execution_id": "8fab43ee-fce3-4f0b-b881-2d2807b01c4e"
   },
   "source": [
    "Теперь найдем гипепараметры, для которых этот процесс сходится быстрее.\n",
    "Если все реализовано корректно, то существуют параметры, при которых процесс сходится в **20** эпох или еще быстрее.\n",
    "Найдите их!"
   ]
  },
  {
   "cell_type": "code",
   "execution_count": 17,
   "metadata": {
    "cellId": "qufagwqckmsljjhfqnycli"
   },
   "outputs": [
    {
     "name": "stdout",
     "output_type": "stream",
     "text": [
      "Loss: 11.498334, Train accuracy: 0.200000, val accuracy: 0.133333\n",
      "Loss: 11.437618, Train accuracy: 0.200000, val accuracy: 0.133333\n",
      "Loss: 11.045650, Train accuracy: 0.200000, val accuracy: 0.133333\n",
      "Loss: 11.219905, Train accuracy: 0.200000, val accuracy: 0.133333\n",
      "Loss: 10.848430, Train accuracy: 0.200000, val accuracy: 0.133333\n",
      "Loss: 11.352193, Train accuracy: 0.333333, val accuracy: 0.066667\n",
      "Loss: 8.765546, Train accuracy: 0.400000, val accuracy: 0.000000\n",
      "Loss: 9.612999, Train accuracy: 0.400000, val accuracy: 0.000000\n",
      "Loss: 9.788985, Train accuracy: 0.400000, val accuracy: 0.066667\n",
      "Loss: 8.001611, Train accuracy: 0.533333, val accuracy: 0.066667\n",
      "Loss: 7.482139, Train accuracy: 0.466667, val accuracy: 0.000000\n",
      "Loss: 6.212697, Train accuracy: 0.666667, val accuracy: 0.066667\n",
      "Loss: 2.528047, Train accuracy: 0.666667, val accuracy: 0.066667\n",
      "Loss: 3.902189, Train accuracy: 0.800000, val accuracy: 0.000000\n",
      "Loss: 2.394499, Train accuracy: 0.733333, val accuracy: 0.066667\n",
      "Loss: 1.765199, Train accuracy: 0.800000, val accuracy: 0.000000\n",
      "Loss: 1.633971, Train accuracy: 0.800000, val accuracy: 0.000000\n",
      "Loss: 1.207005, Train accuracy: 0.933333, val accuracy: 0.000000\n",
      "Loss: 1.394805, Train accuracy: 1.000000, val accuracy: 0.000000\n",
      "Loss: 0.169358, Train accuracy: 1.000000, val accuracy: 0.000000\n"
     ]
    }
   ],
   "source": [
    "# Now, tweak some hyper parameters and make it train to 1.0 accuracy in 20 epochs or less\n",
    "\n",
    "model = TwoLayerNet(n_input = train_X.shape[1], n_output = 10, hidden_layer_size = 100, reg = 0)\n",
    "dataset = Dataset(train_X[:data_size], train_y[:data_size], val_X[:data_size], val_y[:data_size])\n",
    "\n",
    "trainer = Trainer(model, dataset, MomentumSGD(), learning_rate=0.01, num_epochs=20, batch_size=5)\n",
    "\n",
    "loss_history, train_history, val_history = trainer.fit()"
   ]
  },
  {
   "cell_type": "markdown",
   "metadata": {
    "cellId": "hmn3qt2a99u470fr3ch0l",
    "execution_id": "9b8c3cff-152c-4a48-af0a-a8982e35e0f4"
   },
   "source": [
    "# Итак, основное мероприятие!\n",
    "\n",
    "Натренируйте лучшую нейросеть! Можно добавлять и изменять параметры, менять количество нейронов в слоях сети и как угодно экспериментировать. \n",
    "\n",
    "Добейтесь точности лучше **60%** на validation set."
   ]
  },
  {
   "cell_type": "code",
   "execution_count": 18,
   "metadata": {
    "cellId": "9ati743lkwkzlovkdxsjs",
    "scrolled": true
   },
   "outputs": [
    {
     "name": "stdout",
     "output_type": "stream",
     "text": [
      "Loss: 45.763641, Train accuracy: 0.196667, val accuracy: 0.206000\n",
      "Loss: 42.041041, Train accuracy: 0.196667, val accuracy: 0.206000\n",
      "Loss: 45.140739, Train accuracy: 0.196667, val accuracy: 0.206000\n",
      "Loss: 43.811835, Train accuracy: 0.196667, val accuracy: 0.206000\n",
      "Loss: 46.120512, Train accuracy: 0.242444, val accuracy: 0.249000\n",
      "Loss: 34.496303, Train accuracy: 0.273778, val accuracy: 0.276000\n",
      "Loss: 40.254305, Train accuracy: 0.326556, val accuracy: 0.335000\n",
      "Loss: 38.786104, Train accuracy: 0.397000, val accuracy: 0.397000\n",
      "Loss: 31.663654, Train accuracy: 0.449222, val accuracy: 0.448000\n",
      "Loss: 26.985609, Train accuracy: 0.485111, val accuracy: 0.477000\n",
      "Loss: 22.767420, Train accuracy: 0.539778, val accuracy: 0.531000\n",
      "Loss: 29.081603, Train accuracy: 0.575333, val accuracy: 0.563000\n",
      "Loss: 28.999811, Train accuracy: 0.612444, val accuracy: 0.590000\n",
      "Loss: 18.702993, Train accuracy: 0.645333, val accuracy: 0.616000\n",
      "Loss: 24.486192, Train accuracy: 0.665222, val accuracy: 0.647000\n",
      "Loss: 20.261943, Train accuracy: 0.681000, val accuracy: 0.655000\n",
      "Loss: 20.225951, Train accuracy: 0.685222, val accuracy: 0.659000\n",
      "Loss: 21.921257, Train accuracy: 0.703000, val accuracy: 0.685000\n",
      "Loss: 16.455022, Train accuracy: 0.712556, val accuracy: 0.686000\n",
      "Loss: 21.485898, Train accuracy: 0.726000, val accuracy: 0.700000\n",
      "Loss: 17.962027, Train accuracy: 0.738444, val accuracy: 0.701000\n",
      "Loss: 22.444169, Train accuracy: 0.735889, val accuracy: 0.703000\n",
      "Loss: 20.634883, Train accuracy: 0.738667, val accuracy: 0.697000\n",
      "Loss: 11.358141, Train accuracy: 0.750444, val accuracy: 0.710000\n",
      "Loss: 14.145351, Train accuracy: 0.760667, val accuracy: 0.714000\n",
      "Loss: 14.180544, Train accuracy: 0.764778, val accuracy: 0.717000\n",
      "Loss: 13.666684, Train accuracy: 0.775556, val accuracy: 0.726000\n",
      "Loss: 13.581592, Train accuracy: 0.781000, val accuracy: 0.722000\n",
      "Loss: 12.490113, Train accuracy: 0.788556, val accuracy: 0.728000\n",
      "Loss: 23.497635, Train accuracy: 0.789444, val accuracy: 0.719000\n",
      "Loss: 18.515136, Train accuracy: 0.801333, val accuracy: 0.732000\n",
      "Loss: 15.062283, Train accuracy: 0.807667, val accuracy: 0.733000\n",
      "Loss: 11.718209, Train accuracy: 0.804556, val accuracy: 0.737000\n",
      "Loss: 10.455215, Train accuracy: 0.810111, val accuracy: 0.738000\n",
      "Loss: 12.098307, Train accuracy: 0.816667, val accuracy: 0.740000\n",
      "Loss: 14.301370, Train accuracy: 0.823444, val accuracy: 0.745000\n",
      "Loss: 12.499346, Train accuracy: 0.830111, val accuracy: 0.747000\n",
      "Loss: 8.764375, Train accuracy: 0.825000, val accuracy: 0.736000\n",
      "Loss: 9.404713, Train accuracy: 0.844444, val accuracy: 0.753000\n",
      "Loss: 11.936065, Train accuracy: 0.842667, val accuracy: 0.754000\n",
      "Loss: 12.678472, Train accuracy: 0.845667, val accuracy: 0.750000\n",
      "Loss: 14.951174, Train accuracy: 0.853111, val accuracy: 0.750000\n",
      "Loss: 8.632676, Train accuracy: 0.861333, val accuracy: 0.752000\n",
      "Loss: 9.313846, Train accuracy: 0.860000, val accuracy: 0.756000\n",
      "Loss: 6.211918, Train accuracy: 0.857556, val accuracy: 0.750000\n",
      "Loss: 13.065508, Train accuracy: 0.873111, val accuracy: 0.762000\n",
      "Loss: 3.441476, Train accuracy: 0.860667, val accuracy: 0.750000\n",
      "Loss: 16.896223, Train accuracy: 0.864556, val accuracy: 0.748000\n",
      "Loss: 7.257507, Train accuracy: 0.878444, val accuracy: 0.759000\n",
      "Loss: 7.817384, Train accuracy: 0.871556, val accuracy: 0.754000\n",
      "Loss: 11.698369, Train accuracy: 0.878000, val accuracy: 0.759000\n",
      "Loss: 6.447118, Train accuracy: 0.879222, val accuracy: 0.756000\n",
      "Loss: 7.018511, Train accuracy: 0.891222, val accuracy: 0.760000\n",
      "Loss: 7.935889, Train accuracy: 0.883333, val accuracy: 0.753000\n",
      "Loss: 11.557285, Train accuracy: 0.893333, val accuracy: 0.751000\n",
      "Loss: 4.897828, Train accuracy: 0.901000, val accuracy: 0.753000\n",
      "Loss: 9.242421, Train accuracy: 0.905444, val accuracy: 0.768000\n",
      "Loss: 8.932358, Train accuracy: 0.901889, val accuracy: 0.762000\n",
      "Loss: 5.312262, Train accuracy: 0.901333, val accuracy: 0.770000\n",
      "Loss: 11.244438, Train accuracy: 0.915889, val accuracy: 0.764000\n",
      "Loss: 4.734493, Train accuracy: 0.913778, val accuracy: 0.770000\n",
      "Loss: 7.791000, Train accuracy: 0.902778, val accuracy: 0.747000\n",
      "Loss: 12.882190, Train accuracy: 0.912444, val accuracy: 0.767000\n",
      "Loss: 6.108361, Train accuracy: 0.911556, val accuracy: 0.766000\n",
      "Loss: 5.776827, Train accuracy: 0.922889, val accuracy: 0.769000\n",
      "Loss: 10.622840, Train accuracy: 0.920556, val accuracy: 0.760000\n",
      "Loss: 8.183125, Train accuracy: 0.913556, val accuracy: 0.765000\n",
      "Loss: 10.549734, Train accuracy: 0.929333, val accuracy: 0.776000\n",
      "Loss: 3.706024, Train accuracy: 0.932556, val accuracy: 0.763000\n",
      "Loss: 6.466640, Train accuracy: 0.941889, val accuracy: 0.764000\n",
      "Loss: 11.373406, Train accuracy: 0.936889, val accuracy: 0.773000\n",
      "Loss: 8.019085, Train accuracy: 0.931111, val accuracy: 0.767000\n",
      "Loss: 5.864583, Train accuracy: 0.942889, val accuracy: 0.777000\n",
      "Loss: 5.629415, Train accuracy: 0.935556, val accuracy: 0.768000\n",
      "Loss: 3.314073, Train accuracy: 0.944556, val accuracy: 0.777000\n",
      "Loss: 8.608990, Train accuracy: 0.948889, val accuracy: 0.768000\n",
      "Loss: 4.730608, Train accuracy: 0.950111, val accuracy: 0.768000\n",
      "Loss: 2.795652, Train accuracy: 0.946556, val accuracy: 0.771000\n",
      "Loss: 4.666827, Train accuracy: 0.951444, val accuracy: 0.776000\n",
      "Loss: 1.134828, Train accuracy: 0.947778, val accuracy: 0.767000\n",
      "Loss: 4.071475, Train accuracy: 0.957667, val accuracy: 0.780000\n",
      "Loss: 3.625302, Train accuracy: 0.958111, val accuracy: 0.769000\n",
      "Loss: 5.056767, Train accuracy: 0.954333, val accuracy: 0.774000\n",
      "Loss: 2.531652, Train accuracy: 0.957333, val accuracy: 0.776000\n",
      "Loss: 4.462727, Train accuracy: 0.955111, val accuracy: 0.767000\n",
      "Loss: 1.874985, Train accuracy: 0.962667, val accuracy: 0.777000\n",
      "Loss: 1.207122, Train accuracy: 0.955556, val accuracy: 0.769000\n",
      "Loss: 1.387355, Train accuracy: 0.962778, val accuracy: 0.776000\n",
      "Loss: 2.301862, Train accuracy: 0.966000, val accuracy: 0.782000\n",
      "Loss: 1.639561, Train accuracy: 0.968778, val accuracy: 0.790000\n",
      "Loss: 5.444374, Train accuracy: 0.954556, val accuracy: 0.772000\n",
      "Loss: 2.063767, Train accuracy: 0.965889, val accuracy: 0.786000\n",
      "Loss: 5.432759, Train accuracy: 0.947778, val accuracy: 0.765000\n",
      "Loss: 3.816246, Train accuracy: 0.965889, val accuracy: 0.775000\n",
      "Loss: 5.765983, Train accuracy: 0.972111, val accuracy: 0.784000\n",
      "Loss: 2.163660, Train accuracy: 0.972222, val accuracy: 0.777000\n",
      "Loss: 2.193841, Train accuracy: 0.969111, val accuracy: 0.778000\n",
      "Loss: 1.671341, Train accuracy: 0.975667, val accuracy: 0.784000\n",
      "Loss: 5.056944, Train accuracy: 0.963889, val accuracy: 0.769000\n",
      "Loss: 2.235599, Train accuracy: 0.975778, val accuracy: 0.787000\n"
     ]
    }
   ],
   "source": [
    "# learning_rates = [1e-1]\n",
    "# reg_strengths = [0.1]\n",
    "# learning_rate_decay = [0.999]\n",
    "# hidden_layer_sizes = [100]\n",
    "# num_epochs = [100]\n",
    "# batch_sizes = [16]\n",
    "# best_classifier = None\n",
    "# best_val_accuracy = None\n",
    "\n",
    "loss_history = []\n",
    "train_history = []\n",
    "val_history = []\n",
    "\n",
    "# TODO find the best hyperparameters to train the network\n",
    "# Don't hesitate to add new values to the arrays above, perform experiments, use any tricks you want\n",
    "# You should expect to get to at least 40% of valudation accuracy\n",
    "# Save loss/train/history of the best classifier to the variables above\n",
    "\n",
    "#for learning_rate in learning_rates:\n",
    "#    for reg_strength in reg_strengths:\n",
    "#        for hidden_layer_size in hidden_layer_sizes:\n",
    "#            for num_epoch in num_epochs:\n",
    "#                for batch_size in batch_sizes:\n",
    "#                    \n",
    "#                    model = TwoLayerNet(n_input = train_X.shape[1], \n",
    "#                                    n_output = 10, \n",
    "#                                   hidden_layer_size = hidden_layer_size, \n",
    "#                                    reg = reg_strength)\n",
    "#                    dataset = Dataset(train_X, train_y, val_X, val_y)\n",
    "#                    trainer = Trainer(model, dataset, MomentumSGD(), \n",
    "#                                     learning_rate=learning_rate, \n",
    "#                                      num_epochs=num_epoch, batch_size=batch_size)\n",
    "#                    loss_history, train_history, val_history = trainer.fit()\n",
    "#                    if best_classifier == None:\n",
    "#                        best_classifier = model\n",
    "#                        best_val_accuracy = val_history[-1]\n",
    "#\n",
    "#                    if best_val_accuracy<best_val_accuracy:\n",
    "#                        best_classifier = model\n",
    "#                        best_val_accuracy = val_history[-1]\n",
    "#                        best_learning_rate = learning_rate\n",
    "#                        best_reg_strength = reg_strength\n",
    "#                        best_hidden_layer_size = hidden_layer_size\n",
    "#                        best_num_epoch = num_epoch\n",
    "#                    print('next')\n",
    "\n",
    "\n",
    "model = TwoLayerNet(n_input = train_X.shape[1], \n",
    "                    n_output = 10, \n",
    "                    hidden_layer_size = 180,\n",
    "                    reg = 1e-4)\n",
    "dataset = Dataset(train_X, train_y, val_X, val_y)\n",
    "trainer = Trainer(model, dataset, SGD(), learning_rate = 1e-3, num_epochs=100)\n",
    "\n",
    "# You should see even better results than before!\n",
    "loss_history, train_history, val_history = trainer.fit()\n",
    "best_classifier = model"
   ]
  },
  {
   "cell_type": "code",
   "execution_count": 19,
   "metadata": {
    "cellId": "ualp1o5zvt3o6r25uvan3"
   },
   "outputs": [
    {
     "data": {
      "image/png": "[encoded data removed]",
      "text/plain": [
       "<Figure size 1500x700 with 2 Axes>"
      ]
     },
     "metadata": {},
     "output_type": "display_data"
    }
   ],
   "source": [
    "plt.figure(figsize=(15, 7))\n",
    "plt.subplot(211)\n",
    "plt.title(\"Loss\")\n",
    "plt.plot(loss_history)\n",
    "plt.subplot(212)\n",
    "plt.title(\"Train/validation accuracy\")\n",
    "plt.plot(train_history)\n",
    "plt.plot(val_history);"
   ]
  },
  {
   "cell_type": "markdown",
   "metadata": {
    "cellId": "nxvjb4ws37ooi32zr4x8dj",
    "execution_id": "690eb4e5-2cb8-4ab8-8050-8382fea8fd54"
   },
   "source": [
    "# Как обычно, посмотрим, как наша лучшая модель работает на тестовых данных"
   ]
  },
  {
   "cell_type": "code",
   "execution_count": 20,
   "metadata": {
    "cellId": "v4aiqdlr5gnwy4qx7e39n"
   },
   "outputs": [
    {
     "name": "stdout",
     "output_type": "stream",
     "text": [
      "Neural net test set accuracy: 0.760000\n"
     ]
    }
   ],
   "source": [
    "test_pred = best_classifier.predict(test_X)\n",
    "test_accuracy = multiclass_accuracy(test_pred, test_y)\n",
    "print('Neural net test set accuracy: %f' % (test_accuracy, ))"
   ]
  },
  {
   "cell_type": "code",
   "execution_count": null,
   "metadata": {
    "cellId": "hjzfh5u08l63rna4lc3kt"
   },
   "outputs": [],
   "source": []
  },
  {
   "cell_type": "code",
   "execution_count": null,
   "metadata": {
    "cellId": "gvfnnxihv7txzmlsxd8f48"
   },
   "outputs": [],
   "source": []
  },
  {
   "cell_type": "code",
   "execution_count": null,
   "metadata": {
    "cellId": "wzx9wojzme8oc5gadt5ra9"
   },
   "outputs": [],
   "source": []
  }
 ],
 "metadata": {
  "kernelspec": {
   "display_name": "Python 3 (ipykernel)",
   "language": "python",
   "name": "python3"
  },
  "language_info": {
   "codemirror_mode": {
    "name": "ipython",
    "version": 3
   },
   "file_extension": ".py",
   "mimetype": "text/x-python",
   "name": "python",
   "nbconvert_exporter": "python",
   "pygments_lexer": "ipython3",
   "version": "3.9.2"
  },
  "notebookId": "fdd137e8-69e9-4e8e-be62-67e602814831",
  "notebookPath": "dlcourse_ai-master/assignments/assignment2/Neural Network.ipynb"
 },
 "nbformat": 4,
 "nbformat_minor": 4
}
